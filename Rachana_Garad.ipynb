{
 "cells": [
  {
   "cell_type": "markdown",
   "id": "f8776178",
   "metadata": {},
   "source": [
    "<hr style=\"height:.9px;border:none;color:#333;background-color:#333;\" />\n",
    "<hr style=\"height:.9px;border:none;color:#333;background-color:#333;\" />\n",
    "\n",
    "<h1>A2: Modeling Case Study (Individual)</h1>\n",
    "<br>Introduction to Machine Learning & AI - DAT-5329 - FMBANDD1</h4>\n",
    "<br>Chase Kusterer - Faculty of Analytics<br>\n",
    "Hult International Business School<br><br><br>\n",
    "\n",
    "<hr style=\"height:.9px;border:none;color:#333;background-color:#333;\" />\n",
    "<hr style=\"height:.9px;border:none;color:#333;background-color:#333;\" />\n",
    "\n",
    "<br>"
   ]
  },
  {
   "cell_type": "markdown",
   "id": "b758f75e",
   "metadata": {},
   "source": [
    "\n",
    "\n",
    "# Part I: Imports and Data Check"
   ]
  },
  {
   "cell_type": "code",
   "execution_count": 288,
   "id": "249119a9",
   "metadata": {},
   "outputs": [],
   "source": [
    "# Importing necessary libraries\n",
    "import pandas as pd # Data manipulation and analysis library\n",
    "import numpy as np # Library for numerical operations\n",
    "import matplotlib.pyplot as plt # Plotting library for creating visualizations\n",
    "import seaborn as sns # Enhanced visualization library based on matplotlib\n",
    "import statsmodels.api as sm # Statistical models (including regression)\n",
    "import statsmodels.formula.api as smf # Statistical models with formula notation\n",
    "import sklearn.linear_model # Machine learning library for linear models\n",
    "from sklearn.model_selection import train_test_split # Split data into random train and test subsets\n",
    "from sklearn.linear_model import LogisticRegression # Logistic regression model\n",
    "from sklearn.metrics import accuracy_score, classification_report # Metrics to evaluate classification performance\n",
    "from sklearn.linear_model import RidgeClassifier # Ridge classifier model\n",
    "from sklearn.tree import DecisionTreeClassifier # Decision tree model for classification tasks\n",
    "from sklearn.ensemble import RandomForestClassifier # Random forest model for classification\n",
    "from sklearn.ensemble import GradientBoostingClassifier # Gradient boosting model for classification\n",
    "from sklearn.neighbors import KNeighborsClassifier # K-nearest neighbors classifier\n",
    "from sklearn.metrics import mean_squared_error # Function to calculate mean squared error\n",
    "from sklearn.preprocessing import StandardScaler # Feature scaling to standard normal distribution\n",
    "from sklearn.model_selection import RandomizedSearchCV # Hyperparameter tuning through random search\n",
    "from phik import resources, report # Phi_K correlation analysis and report generation\n",
    "from sklearn.preprocessing import power_transform # Yeo-Johnson transformation (handling skewness in data)\n",
    "from sklearn.preprocessing import StandardScaler # Standardize features by removing the mean and scaling to unit variance\n",
    "from sklearn.model_selection import train_test_split # Splits arrays or matrices into random train and test subsets\n",
    "from sklearn.metrics import precision_score, recall_score, f1_score, roc_auc_score # Different performance metrics for classification models\n",
    "from sklearn.metrics import confusion_matrix,ConfusionMatrixDisplay # Functions for creating and visualizing confusion matrix\n",
    "from sklearn.inspection import permutation_importance # Permutation importance for feature evaluation\n"
   ]
  },
  {
   "cell_type": "code",
   "execution_count": 289,
   "id": "8dd541cf",
   "metadata": {},
   "outputs": [],
   "source": [
    "import pandas as pd\n",
    "\n",
    "# Path to the CSV file\n",
    "modeling_data = './datasets/birthweight.csv'\n",
    "\n",
    "# Reading the CSV file into a DataFrame called df_train\n",
    "df_train = pd.read_csv(modeling_data, header=0, index_col='obs_id')\n",
    "\n",
    "# Path to another CSV file for testing data\n",
    "testing_data = './datasets/kaggle_test_data.csv'\n",
    "\n",
    "# Reading the CSV file into a DataFrame called df_test\n",
    "df_test = pd.read_csv(testing_data, header=0, index_col='obs_id')\n"
   ]
  },
  {
   "cell_type": "code",
   "execution_count": 290,
   "id": "5b50120f",
   "metadata": {
    "scrolled": true
   },
   "outputs": [
    {
     "data": {
      "text/html": [
       "<div>\n",
       "<style scoped>\n",
       "    .dataframe tbody tr th:only-of-type {\n",
       "        vertical-align: middle;\n",
       "    }\n",
       "\n",
       "    .dataframe tbody tr th {\n",
       "        vertical-align: top;\n",
       "    }\n",
       "\n",
       "    .dataframe thead th {\n",
       "        text-align: right;\n",
       "    }\n",
       "</style>\n",
       "<table border=\"1\" class=\"dataframe\">\n",
       "  <thead>\n",
       "    <tr style=\"text-align: right;\">\n",
       "      <th></th>\n",
       "      <th>mage</th>\n",
       "      <th>meduc</th>\n",
       "      <th>monpre</th>\n",
       "      <th>npvis</th>\n",
       "      <th>fage</th>\n",
       "      <th>feduc</th>\n",
       "      <th>omaps</th>\n",
       "      <th>fmaps</th>\n",
       "      <th>cigs</th>\n",
       "      <th>drink</th>\n",
       "      <th>male</th>\n",
       "      <th>mwhte</th>\n",
       "      <th>mblck</th>\n",
       "      <th>moth</th>\n",
       "      <th>fwhte</th>\n",
       "      <th>fblck</th>\n",
       "      <th>foth</th>\n",
       "      <th>bwght</th>\n",
       "    </tr>\n",
       "    <tr>\n",
       "      <th>obs_id</th>\n",
       "      <th></th>\n",
       "      <th></th>\n",
       "      <th></th>\n",
       "      <th></th>\n",
       "      <th></th>\n",
       "      <th></th>\n",
       "      <th></th>\n",
       "      <th></th>\n",
       "      <th></th>\n",
       "      <th></th>\n",
       "      <th></th>\n",
       "      <th></th>\n",
       "      <th></th>\n",
       "      <th></th>\n",
       "      <th></th>\n",
       "      <th></th>\n",
       "      <th></th>\n",
       "      <th></th>\n",
       "    </tr>\n",
       "  </thead>\n",
       "  <tbody>\n",
       "    <tr>\n",
       "      <th>id_0001</th>\n",
       "      <td>33</td>\n",
       "      <td>12.0</td>\n",
       "      <td>1.0</td>\n",
       "      <td>5.0</td>\n",
       "      <td>31.0</td>\n",
       "      <td>11.0</td>\n",
       "      <td>NaN</td>\n",
       "      <td>NaN</td>\n",
       "      <td>0.0</td>\n",
       "      <td>0.0</td>\n",
       "      <td>1</td>\n",
       "      <td>1</td>\n",
       "      <td>0</td>\n",
       "      <td>0</td>\n",
       "      <td>1</td>\n",
       "      <td>0</td>\n",
       "      <td>0</td>\n",
       "      <td>360</td>\n",
       "    </tr>\n",
       "    <tr>\n",
       "      <th>id_0002</th>\n",
       "      <td>30</td>\n",
       "      <td>14.0</td>\n",
       "      <td>2.0</td>\n",
       "      <td>6.0</td>\n",
       "      <td>31.0</td>\n",
       "      <td>14.0</td>\n",
       "      <td>4.0</td>\n",
       "      <td>6.0</td>\n",
       "      <td>0.0</td>\n",
       "      <td>0.0</td>\n",
       "      <td>0</td>\n",
       "      <td>1</td>\n",
       "      <td>0</td>\n",
       "      <td>0</td>\n",
       "      <td>1</td>\n",
       "      <td>0</td>\n",
       "      <td>0</td>\n",
       "      <td>506</td>\n",
       "    </tr>\n",
       "    <tr>\n",
       "      <th>id_0003</th>\n",
       "      <td>28</td>\n",
       "      <td>14.0</td>\n",
       "      <td>1.0</td>\n",
       "      <td>7.0</td>\n",
       "      <td>29.0</td>\n",
       "      <td>16.0</td>\n",
       "      <td>2.0</td>\n",
       "      <td>5.0</td>\n",
       "      <td>0.0</td>\n",
       "      <td>0.0</td>\n",
       "      <td>0</td>\n",
       "      <td>1</td>\n",
       "      <td>0</td>\n",
       "      <td>0</td>\n",
       "      <td>1</td>\n",
       "      <td>0</td>\n",
       "      <td>0</td>\n",
       "      <td>680</td>\n",
       "    </tr>\n",
       "    <tr>\n",
       "      <th>id_0005</th>\n",
       "      <td>26</td>\n",
       "      <td>NaN</td>\n",
       "      <td>5.0</td>\n",
       "      <td>2.0</td>\n",
       "      <td>21.0</td>\n",
       "      <td>NaN</td>\n",
       "      <td>4.0</td>\n",
       "      <td>7.0</td>\n",
       "      <td>0.0</td>\n",
       "      <td>0.0</td>\n",
       "      <td>1</td>\n",
       "      <td>0</td>\n",
       "      <td>1</td>\n",
       "      <td>0</td>\n",
       "      <td>0</td>\n",
       "      <td>1</td>\n",
       "      <td>0</td>\n",
       "      <td>697</td>\n",
       "    </tr>\n",
       "    <tr>\n",
       "      <th>id_0006</th>\n",
       "      <td>31</td>\n",
       "      <td>16.0</td>\n",
       "      <td>2.0</td>\n",
       "      <td>5.0</td>\n",
       "      <td>32.0</td>\n",
       "      <td>16.0</td>\n",
       "      <td>NaN</td>\n",
       "      <td>NaN</td>\n",
       "      <td>0.0</td>\n",
       "      <td>0.0</td>\n",
       "      <td>1</td>\n",
       "      <td>1</td>\n",
       "      <td>0</td>\n",
       "      <td>0</td>\n",
       "      <td>1</td>\n",
       "      <td>0</td>\n",
       "      <td>0</td>\n",
       "      <td>737</td>\n",
       "    </tr>\n",
       "  </tbody>\n",
       "</table>\n",
       "</div>"
      ],
      "text/plain": [
       "         mage  meduc  monpre  npvis  fage  feduc  omaps  fmaps  cigs  drink  \\\n",
       "obs_id                                                                        \n",
       "id_0001    33   12.0     1.0    5.0  31.0   11.0    NaN    NaN   0.0    0.0   \n",
       "id_0002    30   14.0     2.0    6.0  31.0   14.0    4.0    6.0   0.0    0.0   \n",
       "id_0003    28   14.0     1.0    7.0  29.0   16.0    2.0    5.0   0.0    0.0   \n",
       "id_0005    26    NaN     5.0    2.0  21.0    NaN    4.0    7.0   0.0    0.0   \n",
       "id_0006    31   16.0     2.0    5.0  32.0   16.0    NaN    NaN   0.0    0.0   \n",
       "\n",
       "         male  mwhte  mblck  moth  fwhte  fblck  foth  bwght  \n",
       "obs_id                                                        \n",
       "id_0001     1      1      0     0      1      0     0    360  \n",
       "id_0002     0      1      0     0      1      0     0    506  \n",
       "id_0003     0      1      0     0      1      0     0    680  \n",
       "id_0005     1      0      1     0      0      1     0    697  \n",
       "id_0006     1      1      0     0      1      0     0    737  "
      ]
     },
     "execution_count": 290,
     "metadata": {},
     "output_type": "execute_result"
    }
   ],
   "source": [
    "#Checking the dataset\n",
    "df_train.head(n=5)"
   ]
  },
  {
   "cell_type": "markdown",
   "id": "382a3f4f",
   "metadata": {},
   "source": [
    "# Analysis Introduction \n",
    "\n",
    "The analysis aims to predict low birth weight using a dataset containing a variety of maternal and paternal factors. The dataset includes significant variables such as maternal age (mage), maternal education (meduc), prenatal care visits (npvis), paternal age (fage), paternal education (feduc), cigarette consumption during pregnancy (cigs), alcohol consumption during pregnancy (drink), and categorical variables such as gender (male) and ethnicity indicators (mwhte, mblck, moth, fwhte, fblck, foth). The goal is to develop a predictive model that uses these variables to accurately estimate birth weight. The exploratory data analysis will be important for gaining insight into variable distribution, identifying trends, and evaluating missing values. Next, feature engineering approaches will be used, followed by a systematic approach to create and assess candidate models."
   ]
  },
  {
   "cell_type": "code",
   "execution_count": 291,
   "id": "dbd8dd65",
   "metadata": {},
   "outputs": [
    {
     "data": {
      "text/plain": [
       "bwght     1.00\n",
       "fmaps     0.17\n",
       "omaps     0.17\n",
       "npvis     0.10\n",
       "fage      0.07\n",
       "male      0.07\n",
       "fwhte     0.07\n",
       "mwhte     0.05\n",
       "feduc     0.05\n",
       "meduc     0.04\n",
       "mage      0.03\n",
       "monpre   -0.00\n",
       "fblck    -0.02\n",
       "drink    -0.02\n",
       "mblck    -0.02\n",
       "moth     -0.05\n",
       "foth     -0.07\n",
       "cigs     -0.09\n",
       "Name: bwght, dtype: float64"
      ]
     },
     "execution_count": 291,
     "metadata": {},
     "output_type": "execute_result"
    }
   ],
   "source": [
    "# Correlation matrix focused on 'bwght' BEFORE THE threshold calculation \n",
    "correlation_matrix = df_train.corr(method='pearson')\n",
    "correlation_matrix['bwght'].sort_values(ascending=False).round(2)"
   ]
  },
  {
   "cell_type": "markdown",
   "id": "f2d066c5",
   "metadata": {},
   "source": [
    "## Official Threshold"
   ]
  },
  {
   "cell_type": "code",
   "execution_count": 292,
   "id": "ab91d01a",
   "metadata": {},
   "outputs": [],
   "source": [
    "# Assuming 'bwght' is the column in df_train for birth weight in grams\n",
    "df_train['low_bwght'] = (df_train['bwght'] < 2500).astype(int)\n"
   ]
  },
  {
   "cell_type": "code",
   "execution_count": 293,
   "id": "b673c9ba",
   "metadata": {},
   "outputs": [
    {
     "name": "stdout",
     "output_type": "stream",
     "text": [
      "low_bwght\n",
      "0    1564\n",
      "1      84\n",
      "Name: count, dtype: int64\n"
     ]
    }
   ],
   "source": [
    "# Check the distribution of 'low_bwght' in the training dataset\n",
    "low_bwght_distribution = df_train['low_bwght'].value_counts()\n",
    "print(low_bwght_distribution)\n"
   ]
  },
  {
   "cell_type": "markdown",
   "id": "9045aa20",
   "metadata": {},
   "source": [
    "Based on the distribution of target variable low_bwght in the training dataset, there are 300 instances classified as not low birth weight (0) and 84 instances classified as low birth weight (1). This confirms that dataset is imbalanced, with a higher proportion of instances belonging to the not low birth weight category."
   ]
  },
  {
   "cell_type": "markdown",
   "id": "995fe394",
   "metadata": {},
   "source": [
    "### Balancing the dataset\n",
    "Imbalanced datasets can lead to models that are biased towards the majority class, as they tend to predict the majority class better due to its higher prevalence. Sampling aims to balance the class distribution, which can help the model learn better and improve its performance on the minority class.\n",
    "\n",
    "The sampling strategy applied here is Undersampling the Majority Class. This technique involves reducing the number of instances in the majority class to balance the dataset. Specifically, you randomly selected 300 instances from the low_bwght == 0 class (not low birth weight) to match the already existing number of instances in the majority class, rather than reducing the majority class to exactly match the minority class size, which would drastically reduce the dataset size and potentially lead to the loss of valuable information"
   ]
  },
  {
   "cell_type": "code",
   "execution_count": 294,
   "id": "ef07a064",
   "metadata": {},
   "outputs": [
    {
     "data": {
      "text/plain": [
       "low_bwght\n",
       "0    300\n",
       "1     84\n",
       "Name: count, dtype: int64"
      ]
     },
     "execution_count": 294,
     "metadata": {},
     "output_type": "execute_result"
    }
   ],
   "source": [
    "from sklearn.model_selection import train_test_split\n",
    "import pandas as pd\n",
    "\n",
    "# Assuming df_train is your DataFrame\n",
    "\n",
    "# Extracting rows where low_bwght is 0 and where low_bwght is 1\n",
    "df_low_bwght_0 = df_train[df_train['low_bwght'] == 0]\n",
    "df_low_bwght_1 = df_train[df_train['low_bwght'] == 1]\n",
    "\n",
    "# Randomly selecting 300 samples from the df_low_bwght_0\n",
    "df_sample_0 = df_low_bwght_0.sample(n=300, random_state=42)\n",
    "\n",
    "# Combining the samples into a single dataframe and shuffling it\n",
    "df_train = pd.concat([df_sample_0, df_low_bwght_1]).sample(frac=1, random_state=42)\n",
    "\n",
    "# Verifying the sample size for each class in the combined sample\n",
    "df_train['low_bwght'].value_counts()\n",
    "\n"
   ]
  },
  {
   "cell_type": "code",
   "execution_count": 295,
   "id": "09646930",
   "metadata": {},
   "outputs": [],
   "source": [
    "#!#########################!#\n",
    "#!# set response variable #!#\n",
    "#!#########################!#\n",
    "y_variable = \"low_bwght\" "
   ]
  },
  {
   "cell_type": "code",
   "execution_count": 296,
   "id": "1a8ab82f",
   "metadata": {},
   "outputs": [
    {
     "data": {
      "text/html": [
       "<div>\n",
       "<style scoped>\n",
       "    .dataframe tbody tr th:only-of-type {\n",
       "        vertical-align: middle;\n",
       "    }\n",
       "\n",
       "    .dataframe tbody tr th {\n",
       "        vertical-align: top;\n",
       "    }\n",
       "\n",
       "    .dataframe thead th {\n",
       "        text-align: right;\n",
       "    }\n",
       "</style>\n",
       "<table border=\"1\" class=\"dataframe\">\n",
       "  <thead>\n",
       "    <tr style=\"text-align: right;\">\n",
       "      <th></th>\n",
       "      <th>mage</th>\n",
       "      <th>meduc</th>\n",
       "      <th>monpre</th>\n",
       "      <th>npvis</th>\n",
       "      <th>fage</th>\n",
       "      <th>feduc</th>\n",
       "      <th>omaps</th>\n",
       "      <th>fmaps</th>\n",
       "      <th>cigs</th>\n",
       "      <th>drink</th>\n",
       "      <th>male</th>\n",
       "      <th>mwhte</th>\n",
       "      <th>mblck</th>\n",
       "      <th>moth</th>\n",
       "      <th>fwhte</th>\n",
       "      <th>fblck</th>\n",
       "      <th>foth</th>\n",
       "      <th>bwght</th>\n",
       "      <th>low_bwght</th>\n",
       "    </tr>\n",
       "    <tr>\n",
       "      <th>obs_id</th>\n",
       "      <th></th>\n",
       "      <th></th>\n",
       "      <th></th>\n",
       "      <th></th>\n",
       "      <th></th>\n",
       "      <th></th>\n",
       "      <th></th>\n",
       "      <th></th>\n",
       "      <th></th>\n",
       "      <th></th>\n",
       "      <th></th>\n",
       "      <th></th>\n",
       "      <th></th>\n",
       "      <th></th>\n",
       "      <th></th>\n",
       "      <th></th>\n",
       "      <th></th>\n",
       "      <th></th>\n",
       "      <th></th>\n",
       "    </tr>\n",
       "  </thead>\n",
       "  <tbody>\n",
       "    <tr>\n",
       "      <th>id_1383</th>\n",
       "      <td>28</td>\n",
       "      <td>12.0</td>\n",
       "      <td>1.0</td>\n",
       "      <td>13.0</td>\n",
       "      <td>31.0</td>\n",
       "      <td>14.0</td>\n",
       "      <td>8.0</td>\n",
       "      <td>9.0</td>\n",
       "      <td>0.0</td>\n",
       "      <td>0.0</td>\n",
       "      <td>0</td>\n",
       "      <td>1</td>\n",
       "      <td>0</td>\n",
       "      <td>0</td>\n",
       "      <td>1</td>\n",
       "      <td>0</td>\n",
       "      <td>0</td>\n",
       "      <td>3771</td>\n",
       "      <td>0</td>\n",
       "    </tr>\n",
       "    <tr>\n",
       "      <th>id_0905</th>\n",
       "      <td>22</td>\n",
       "      <td>12.0</td>\n",
       "      <td>6.0</td>\n",
       "      <td>8.0</td>\n",
       "      <td>34.0</td>\n",
       "      <td>12.0</td>\n",
       "      <td>8.0</td>\n",
       "      <td>9.0</td>\n",
       "      <td>0.0</td>\n",
       "      <td>0.0</td>\n",
       "      <td>1</td>\n",
       "      <td>1</td>\n",
       "      <td>0</td>\n",
       "      <td>0</td>\n",
       "      <td>1</td>\n",
       "      <td>0</td>\n",
       "      <td>0</td>\n",
       "      <td>3415</td>\n",
       "      <td>0</td>\n",
       "    </tr>\n",
       "    <tr>\n",
       "      <th>id_0061</th>\n",
       "      <td>33</td>\n",
       "      <td>16.0</td>\n",
       "      <td>2.0</td>\n",
       "      <td>12.0</td>\n",
       "      <td>31.0</td>\n",
       "      <td>16.0</td>\n",
       "      <td>9.0</td>\n",
       "      <td>9.0</td>\n",
       "      <td>0.0</td>\n",
       "      <td>0.0</td>\n",
       "      <td>1</td>\n",
       "      <td>1</td>\n",
       "      <td>0</td>\n",
       "      <td>0</td>\n",
       "      <td>1</td>\n",
       "      <td>0</td>\n",
       "      <td>0</td>\n",
       "      <td>2290</td>\n",
       "      <td>1</td>\n",
       "    </tr>\n",
       "    <tr>\n",
       "      <th>id_0036</th>\n",
       "      <td>32</td>\n",
       "      <td>16.0</td>\n",
       "      <td>1.0</td>\n",
       "      <td>12.0</td>\n",
       "      <td>31.0</td>\n",
       "      <td>16.0</td>\n",
       "      <td>9.0</td>\n",
       "      <td>9.0</td>\n",
       "      <td>NaN</td>\n",
       "      <td>NaN</td>\n",
       "      <td>1</td>\n",
       "      <td>1</td>\n",
       "      <td>0</td>\n",
       "      <td>0</td>\n",
       "      <td>1</td>\n",
       "      <td>0</td>\n",
       "      <td>0</td>\n",
       "      <td>2050</td>\n",
       "      <td>1</td>\n",
       "    </tr>\n",
       "    <tr>\n",
       "      <th>id_0729</th>\n",
       "      <td>26</td>\n",
       "      <td>16.0</td>\n",
       "      <td>3.0</td>\n",
       "      <td>12.0</td>\n",
       "      <td>28.0</td>\n",
       "      <td>16.0</td>\n",
       "      <td>9.0</td>\n",
       "      <td>10.0</td>\n",
       "      <td>0.0</td>\n",
       "      <td>0.0</td>\n",
       "      <td>0</td>\n",
       "      <td>1</td>\n",
       "      <td>0</td>\n",
       "      <td>0</td>\n",
       "      <td>1</td>\n",
       "      <td>0</td>\n",
       "      <td>0</td>\n",
       "      <td>3290</td>\n",
       "      <td>0</td>\n",
       "    </tr>\n",
       "  </tbody>\n",
       "</table>\n",
       "</div>"
      ],
      "text/plain": [
       "         mage  meduc  monpre  npvis  fage  feduc  omaps  fmaps  cigs  drink  \\\n",
       "obs_id                                                                        \n",
       "id_1383    28   12.0     1.0   13.0  31.0   14.0    8.0    9.0   0.0    0.0   \n",
       "id_0905    22   12.0     6.0    8.0  34.0   12.0    8.0    9.0   0.0    0.0   \n",
       "id_0061    33   16.0     2.0   12.0  31.0   16.0    9.0    9.0   0.0    0.0   \n",
       "id_0036    32   16.0     1.0   12.0  31.0   16.0    9.0    9.0   NaN    NaN   \n",
       "id_0729    26   16.0     3.0   12.0  28.0   16.0    9.0   10.0   0.0    0.0   \n",
       "\n",
       "         male  mwhte  mblck  moth  fwhte  fblck  foth  bwght  low_bwght  \n",
       "obs_id                                                                   \n",
       "id_1383     0      1      0     0      1      0     0   3771          0  \n",
       "id_0905     1      1      0     0      1      0     0   3415          0  \n",
       "id_0061     1      1      0     0      1      0     0   2290          1  \n",
       "id_0036     1      1      0     0      1      0     0   2050          1  \n",
       "id_0729     0      1      0     0      1      0     0   3290          0  "
      ]
     },
     "execution_count": 296,
     "metadata": {},
     "output_type": "execute_result"
    }
   ],
   "source": [
    "df_train.head(5)"
   ]
  },
  {
   "cell_type": "markdown",
   "id": "194e94e0",
   "metadata": {},
   "source": [
    "# Part II: Data Preparation\n"
   ]
  },
  {
   "cell_type": "markdown",
   "id": "5dad26d9",
   "metadata": {},
   "source": [
    "## Base Modeling"
   ]
  },
  {
   "cell_type": "code",
   "execution_count": 297,
   "id": "306a1394",
   "metadata": {},
   "outputs": [
    {
     "name": "stdout",
     "output_type": "stream",
     "text": [
      "<class 'pandas.core.frame.DataFrame'>\n",
      "Index: 384 entries, id_1383 to id_0286\n",
      "Data columns (total 19 columns):\n",
      " #   Column     Non-Null Count  Dtype  \n",
      "---  ------     --------------  -----  \n",
      " 0   mage       384 non-null    int64  \n",
      " 1   meduc      379 non-null    float64\n",
      " 2   monpre     384 non-null    float64\n",
      " 3   npvis      374 non-null    float64\n",
      " 4   fage       381 non-null    float64\n",
      " 5   feduc      375 non-null    float64\n",
      " 6   omaps      382 non-null    float64\n",
      " 7   fmaps      382 non-null    float64\n",
      " 8   cigs       362 non-null    float64\n",
      " 9   drink      361 non-null    float64\n",
      " 10  male       384 non-null    int64  \n",
      " 11  mwhte      384 non-null    int64  \n",
      " 12  mblck      384 non-null    int64  \n",
      " 13  moth       384 non-null    int64  \n",
      " 14  fwhte      384 non-null    int64  \n",
      " 15  fblck      384 non-null    int64  \n",
      " 16  foth       384 non-null    int64  \n",
      " 17  bwght      384 non-null    int64  \n",
      " 18  low_bwght  384 non-null    int32  \n",
      "dtypes: float64(9), int32(1), int64(9)\n",
      "memory usage: 58.5+ KB\n"
     ]
    }
   ],
   "source": [
    "# INFOrmation about each variable\n",
    "df_train.info(verbose = True)"
   ]
  },
  {
   "cell_type": "code",
   "execution_count": 298,
   "id": "67da24a2",
   "metadata": {},
   "outputs": [
    {
     "data": {
      "text/html": [
       "<div>\n",
       "<style scoped>\n",
       "    .dataframe tbody tr th:only-of-type {\n",
       "        vertical-align: middle;\n",
       "    }\n",
       "\n",
       "    .dataframe tbody tr th {\n",
       "        vertical-align: top;\n",
       "    }\n",
       "\n",
       "    .dataframe thead th {\n",
       "        text-align: right;\n",
       "    }\n",
       "</style>\n",
       "<table border=\"1\" class=\"dataframe\">\n",
       "  <thead>\n",
       "    <tr style=\"text-align: right;\">\n",
       "      <th></th>\n",
       "      <th>mage</th>\n",
       "      <th>meduc</th>\n",
       "      <th>monpre</th>\n",
       "      <th>npvis</th>\n",
       "      <th>fage</th>\n",
       "      <th>feduc</th>\n",
       "      <th>omaps</th>\n",
       "      <th>fmaps</th>\n",
       "      <th>cigs</th>\n",
       "      <th>drink</th>\n",
       "      <th>male</th>\n",
       "      <th>mwhte</th>\n",
       "      <th>mblck</th>\n",
       "      <th>moth</th>\n",
       "      <th>fwhte</th>\n",
       "      <th>fblck</th>\n",
       "      <th>foth</th>\n",
       "      <th>bwght</th>\n",
       "      <th>low_bwght</th>\n",
       "    </tr>\n",
       "  </thead>\n",
       "  <tbody>\n",
       "    <tr>\n",
       "      <th>count</th>\n",
       "      <td>384.00</td>\n",
       "      <td>379.00</td>\n",
       "      <td>384.00</td>\n",
       "      <td>374.00</td>\n",
       "      <td>381.00</td>\n",
       "      <td>375.00</td>\n",
       "      <td>382.00</td>\n",
       "      <td>382.00</td>\n",
       "      <td>362.00</td>\n",
       "      <td>361.00</td>\n",
       "      <td>384.00</td>\n",
       "      <td>384.0</td>\n",
       "      <td>384.00</td>\n",
       "      <td>384.00</td>\n",
       "      <td>384.0</td>\n",
       "      <td>384.00</td>\n",
       "      <td>384.00</td>\n",
       "      <td>384.00</td>\n",
       "      <td>384.00</td>\n",
       "    </tr>\n",
       "    <tr>\n",
       "      <th>mean</th>\n",
       "      <td>29.39</td>\n",
       "      <td>13.75</td>\n",
       "      <td>2.07</td>\n",
       "      <td>11.45</td>\n",
       "      <td>31.44</td>\n",
       "      <td>14.01</td>\n",
       "      <td>8.16</td>\n",
       "      <td>8.94</td>\n",
       "      <td>1.09</td>\n",
       "      <td>0.02</td>\n",
       "      <td>0.52</td>\n",
       "      <td>0.9</td>\n",
       "      <td>0.05</td>\n",
       "      <td>0.04</td>\n",
       "      <td>0.9</td>\n",
       "      <td>0.06</td>\n",
       "      <td>0.04</td>\n",
       "      <td>3167.06</td>\n",
       "      <td>0.22</td>\n",
       "    </tr>\n",
       "    <tr>\n",
       "      <th>std</th>\n",
       "      <td>5.22</td>\n",
       "      <td>2.07</td>\n",
       "      <td>1.24</td>\n",
       "      <td>3.81</td>\n",
       "      <td>5.98</td>\n",
       "      <td>2.30</td>\n",
       "      <td>1.47</td>\n",
       "      <td>0.57</td>\n",
       "      <td>4.37</td>\n",
       "      <td>0.28</td>\n",
       "      <td>0.50</td>\n",
       "      <td>0.3</td>\n",
       "      <td>0.23</td>\n",
       "      <td>0.21</td>\n",
       "      <td>0.3</td>\n",
       "      <td>0.23</td>\n",
       "      <td>0.21</td>\n",
       "      <td>779.51</td>\n",
       "      <td>0.41</td>\n",
       "    </tr>\n",
       "    <tr>\n",
       "      <th>min</th>\n",
       "      <td>16.00</td>\n",
       "      <td>5.00</td>\n",
       "      <td>0.00</td>\n",
       "      <td>0.00</td>\n",
       "      <td>18.00</td>\n",
       "      <td>3.00</td>\n",
       "      <td>1.00</td>\n",
       "      <td>5.00</td>\n",
       "      <td>0.00</td>\n",
       "      <td>0.00</td>\n",
       "      <td>0.00</td>\n",
       "      <td>0.0</td>\n",
       "      <td>0.00</td>\n",
       "      <td>0.00</td>\n",
       "      <td>0.0</td>\n",
       "      <td>0.00</td>\n",
       "      <td>0.00</td>\n",
       "      <td>360.00</td>\n",
       "      <td>0.00</td>\n",
       "    </tr>\n",
       "    <tr>\n",
       "      <th>25%</th>\n",
       "      <td>26.00</td>\n",
       "      <td>12.00</td>\n",
       "      <td>1.00</td>\n",
       "      <td>10.00</td>\n",
       "      <td>28.00</td>\n",
       "      <td>12.00</td>\n",
       "      <td>8.00</td>\n",
       "      <td>9.00</td>\n",
       "      <td>0.00</td>\n",
       "      <td>0.00</td>\n",
       "      <td>0.00</td>\n",
       "      <td>1.0</td>\n",
       "      <td>0.00</td>\n",
       "      <td>0.00</td>\n",
       "      <td>1.0</td>\n",
       "      <td>0.00</td>\n",
       "      <td>0.00</td>\n",
       "      <td>2707.50</td>\n",
       "      <td>0.00</td>\n",
       "    </tr>\n",
       "    <tr>\n",
       "      <th>50%</th>\n",
       "      <td>29.00</td>\n",
       "      <td>13.00</td>\n",
       "      <td>2.00</td>\n",
       "      <td>12.00</td>\n",
       "      <td>31.00</td>\n",
       "      <td>14.00</td>\n",
       "      <td>9.00</td>\n",
       "      <td>9.00</td>\n",
       "      <td>0.00</td>\n",
       "      <td>0.00</td>\n",
       "      <td>1.00</td>\n",
       "      <td>1.0</td>\n",
       "      <td>0.00</td>\n",
       "      <td>0.00</td>\n",
       "      <td>1.0</td>\n",
       "      <td>0.00</td>\n",
       "      <td>0.00</td>\n",
       "      <td>3295.00</td>\n",
       "      <td>0.00</td>\n",
       "    </tr>\n",
       "    <tr>\n",
       "      <th>75%</th>\n",
       "      <td>33.00</td>\n",
       "      <td>16.00</td>\n",
       "      <td>2.00</td>\n",
       "      <td>12.00</td>\n",
       "      <td>35.00</td>\n",
       "      <td>16.00</td>\n",
       "      <td>9.00</td>\n",
       "      <td>9.00</td>\n",
       "      <td>0.00</td>\n",
       "      <td>0.00</td>\n",
       "      <td>1.00</td>\n",
       "      <td>1.0</td>\n",
       "      <td>0.00</td>\n",
       "      <td>0.00</td>\n",
       "      <td>1.0</td>\n",
       "      <td>0.00</td>\n",
       "      <td>0.00</td>\n",
       "      <td>3714.00</td>\n",
       "      <td>0.00</td>\n",
       "    </tr>\n",
       "    <tr>\n",
       "      <th>max</th>\n",
       "      <td>44.00</td>\n",
       "      <td>17.00</td>\n",
       "      <td>8.00</td>\n",
       "      <td>35.00</td>\n",
       "      <td>62.00</td>\n",
       "      <td>17.00</td>\n",
       "      <td>9.00</td>\n",
       "      <td>10.00</td>\n",
       "      <td>40.00</td>\n",
       "      <td>5.00</td>\n",
       "      <td>1.00</td>\n",
       "      <td>1.0</td>\n",
       "      <td>1.00</td>\n",
       "      <td>1.00</td>\n",
       "      <td>1.0</td>\n",
       "      <td>1.00</td>\n",
       "      <td>1.00</td>\n",
       "      <td>5160.00</td>\n",
       "      <td>1.00</td>\n",
       "    </tr>\n",
       "  </tbody>\n",
       "</table>\n",
       "</div>"
      ],
      "text/plain": [
       "         mage   meduc  monpre   npvis    fage   feduc   omaps   fmaps    cigs  \\\n",
       "count  384.00  379.00  384.00  374.00  381.00  375.00  382.00  382.00  362.00   \n",
       "mean    29.39   13.75    2.07   11.45   31.44   14.01    8.16    8.94    1.09   \n",
       "std      5.22    2.07    1.24    3.81    5.98    2.30    1.47    0.57    4.37   \n",
       "min     16.00    5.00    0.00    0.00   18.00    3.00    1.00    5.00    0.00   \n",
       "25%     26.00   12.00    1.00   10.00   28.00   12.00    8.00    9.00    0.00   \n",
       "50%     29.00   13.00    2.00   12.00   31.00   14.00    9.00    9.00    0.00   \n",
       "75%     33.00   16.00    2.00   12.00   35.00   16.00    9.00    9.00    0.00   \n",
       "max     44.00   17.00    8.00   35.00   62.00   17.00    9.00   10.00   40.00   \n",
       "\n",
       "        drink    male  mwhte   mblck    moth  fwhte   fblck    foth    bwght  \\\n",
       "count  361.00  384.00  384.0  384.00  384.00  384.0  384.00  384.00   384.00   \n",
       "mean     0.02    0.52    0.9    0.05    0.04    0.9    0.06    0.04  3167.06   \n",
       "std      0.28    0.50    0.3    0.23    0.21    0.3    0.23    0.21   779.51   \n",
       "min      0.00    0.00    0.0    0.00    0.00    0.0    0.00    0.00   360.00   \n",
       "25%      0.00    0.00    1.0    0.00    0.00    1.0    0.00    0.00  2707.50   \n",
       "50%      0.00    1.00    1.0    0.00    0.00    1.0    0.00    0.00  3295.00   \n",
       "75%      0.00    1.00    1.0    0.00    0.00    1.0    0.00    0.00  3714.00   \n",
       "max      5.00    1.00    1.0    1.00    1.00    1.0    1.00    1.00  5160.00   \n",
       "\n",
       "       low_bwght  \n",
       "count     384.00  \n",
       "mean        0.22  \n",
       "std         0.41  \n",
       "min         0.00  \n",
       "25%         0.00  \n",
       "50%         0.00  \n",
       "75%         0.00  \n",
       "max         1.00  "
      ]
     },
     "execution_count": 298,
     "metadata": {},
     "output_type": "execute_result"
    }
   ],
   "source": [
    "# analyzing feature distributions\n",
    "df_train.describe(include = 'number').round(decimals = 2) "
   ]
  },
  {
   "cell_type": "markdown",
   "id": "5444f8a6",
   "metadata": {},
   "source": [
    "Summary Statistics\n",
    "\n",
    "\n",
    "\n",
    "1.  Parental Ages : Both mothers and fathers are in their early thirties and late twenties on average, respectively, with a moderate spread in ages, suggesting diverse parental age demographics.\n",
    "\n",
    "2.  Education Levels : Average education suggests that most parents have completed high school and some college.\n",
    "\n",
    "3.  Prenatal Care : The average start time for prenatal care is in the second month, and the average number of visits suggests reasonable prenatal healthcare engagement.\n",
    "\n",
    "4.  Health Behaviors : There is significant variation in smoking habits, which may be a risk factor for birth outcomes, while alcohol consumption is minimal on average.\n",
    "\n",
    "5.  Apgar Scores : Average scores are good, indicating newborns are generally healthy post-birth.\n",
    "\n",
    "6.  Birth Weight : There's substantial variation in birth weights, with the minimum pointing to potential cases of very low birth weight.\n",
    "\n",
    "7.  Demographics : The dataset likely represents a population with a majority of white parents and a balanced distribution of newborn genders.\n",
    "\n",
    "8.  Low Birth Weight Incidence : The mean value for the `low_bwght` variable suggests around 22% of the newborns may be categorized as low birth weight, which is a significant proportion and an important outcome to be addressed.\n",
    "\n"
   ]
  },
  {
   "cell_type": "code",
   "execution_count": 299,
   "id": "700e4d52",
   "metadata": {},
   "outputs": [
    {
     "name": "stderr",
     "output_type": "stream",
     "text": [
      "C:\\Users\\racha\\anaconda3\\Lib\\site-packages\\seaborn\\_oldcore.py:1119: FutureWarning: use_inf_as_na option is deprecated and will be removed in a future version. Convert inf values to NaN before operating instead.\n",
      "  with pd.option_context('mode.use_inf_as_na', True):\n"
     ]
    },
    {
     "data": {
      "image/png": "[encoded data removed]",
      "text/plain": [
       "<Figure size 1000x600 with 1 Axes>"
      ]
     },
     "metadata": {},
     "output_type": "display_data"
    }
   ],
   "source": [
    "# Plotting the distribution of birth weights\n",
    "plt.figure(figsize=(10, 6))\n",
    "sns.histplot(df_train['bwght'], kde=True)\n",
    "plt.title('Distribution of Birth Weights')\n",
    "plt.xlabel('Birth Weight (grams)')\n",
    "plt.ylabel('Frequency')\n",
    "plt.show()\n"
   ]
  },
  {
   "cell_type": "markdown",
   "id": "263396cc",
   "metadata": {},
   "source": [
    "Distribution of Birth Weights\n",
    "\n",
    "1.  Central Tendency : The majority of birth weights are clustered around the 3000-gram, which is typical for full-term newborns, indicating a normal distribution around this central value.\n",
    "\n",
    "2.  Spread and Variability : The distribution of birth weights has a broad spread, ranging from less than 1000 grams to over 5000 grams, which implies a substantial variability in birth weights in the dataset.\n",
    "\n",
    "3.  Skewness : There is a slight right skew to the data, with a tail extending towards the higher birth weights. This indicates that there are more babies with higher birth weights than lower in the dataset, although the highest frequency of birth weights remains around the mean.\n",
    "\n",
    "4.  Low Birth Weight Frequency : There are a noticeable number of cases below 2500 grams, which is the typical threshold for low birth weight. These represent a critical subgroup possibly at risk for various health complications.\n",
    "\n",
    "5.  Outliers or Extreme Values : There are a few birth weights that are quite high, notably some above 4500 grams, which are well above the average and could be considered outliers.\n",
    "\n",
    "6.  KDE Fit : The KDE line suggests the data is not perfectly normally distributed, with deviations particularly in the tails, indicating the presence of outliers or extreme values.\n",
    "\n",
    "\n",
    "\n"
   ]
  },
  {
   "cell_type": "markdown",
   "id": "49a98da5",
   "metadata": {},
   "source": [
    "## correlation_matrix "
   ]
  },
  {
   "cell_type": "code",
   "execution_count": 300,
   "id": "17d235a8",
   "metadata": {},
   "outputs": [
    {
     "data": {
      "text/plain": [
       "bwght        1.00\n",
       "fmaps        0.36\n",
       "omaps        0.34\n",
       "npvis        0.17\n",
       "feduc        0.09\n",
       "male         0.08\n",
       "fage         0.06\n",
       "fwhte        0.04\n",
       "mwhte        0.03\n",
       "mage         0.03\n",
       "meduc        0.03\n",
       "drink       -0.00\n",
       "monpre      -0.00\n",
       "moth        -0.02\n",
       "fblck       -0.02\n",
       "foth        -0.03\n",
       "mblck       -0.03\n",
       "cigs        -0.14\n",
       "low_bwght   -0.79\n",
       "Name: bwght, dtype: float64"
      ]
     },
     "execution_count": 300,
     "metadata": {},
     "output_type": "execute_result"
    }
   ],
   "source": [
    "# Correlation matrix focused on 'bwght'\n",
    "correlation_matrix = df_train.corr(method='pearson')\n",
    "correlation_matrix['bwght'].sort_values(ascending=False).round(2)"
   ]
  },
  {
   "cell_type": "markdown",
   "id": "bd016071",
   "metadata": {},
   "source": [
    "Pearson Correlation Insights:\n",
    "Strongest Negative Correlation: The most negative correlation with birth weight is low_bwght (-0.79), which is expected as low_bwght likely represents a binary indicator for low birth weight, directly opposing the bwght value.\n",
    "\n",
    "Negative Correlators: Smoking (cigs) shows a notable negative correlation with birth weight (-0.14), suggesting that higher cigarette consumption is associated with lower birth weights. Similarly, alcohol consumption (drink) is negatively correlated, though its coefficient is quite small (-0.002736).\n",
    "\n",
    "Positive Correlators: The highest positive correlations with birth weight are Apgar scores (fmaps and omaps), indicating that higher Apgar scores are associated with higher birth weights. This reflects well on the general health and vitality of the newborns. The number of prenatal visits (npvis) also has a positive correlation, implying that more frequent healthcare interactions during pregnancy could be associated with healthier birth weights."
   ]
  },
  {
   "cell_type": "code",
   "execution_count": 301,
   "id": "58d9da59",
   "metadata": {},
   "outputs": [
    {
     "name": "stdout",
     "output_type": "stream",
     "text": [
      "interval columns not set, guessing: ['mage', 'meduc', 'monpre', 'npvis', 'fage', 'feduc', 'omaps', 'fmaps', 'cigs', 'drink', 'male', 'mwhte', 'mblck', 'moth', 'fwhte', 'fblck', 'foth', 'bwght', 'low_bwght']\n",
      "              bwght\n",
      "bwght      1.000000\n",
      "low_bwght  0.989053\n",
      "fmaps      0.531901\n",
      "omaps      0.500014\n",
      "npvis      0.274909\n",
      "feduc      0.182550\n",
      "cigs       0.126651\n",
      "foth       0.077764\n",
      "moth       0.069749\n",
      "fblck      0.048515\n",
      "mblck      0.046252\n",
      "fwhte      0.031730\n",
      "mage       0.000000\n",
      "mwhte      0.000000\n",
      "male       0.000000\n",
      "meduc      0.000000\n",
      "fage       0.000000\n",
      "monpre     0.000000\n",
      "drink      0.000000\n"
     ]
    }
   ],
   "source": [
    "# Calculate the phi_k correlation matrix\n",
    "phi_k_corr_matrix = df_train.phik_matrix()\n",
    "\n",
    "# Display the phi_k correlation with 'bwght'\n",
    "phi_k_corr_with_bwght = phi_k_corr_matrix[['bwght']].sort_values(by='bwght', ascending=False)\n",
    "print(phi_k_corr_with_bwght)\n"
   ]
  },
  {
   "cell_type": "markdown",
   "id": "f9193159",
   "metadata": {},
   "source": [
    "Phi_k Correlation\n",
    "\n",
    "The Phi_k correlation coefficient is a newer statistic designed to measure association between variables, including nominal, ordinal, and interval data, often providing a more nuanced view of relationships.\n",
    "\n",
    "High Phi_k with Low Birth Weight: The very high Phi_k correlation between low_bwght (0.989053) and bwght further underscores their direct and strong inverse relationship.\n",
    "\n",
    "Strong Positive Correlations: The Apgar scores (omaps and fmaps) again show strong positive correlations with birth weight in the Phi_k matrix, even more pronounced than in the Pearson results. This highlights the importance of the Apgar test as an indicator of newborn health relative to birth weight.\n",
    "\n",
    "Other Notable Correlations: Unlike the Pearson correlation, Phi_k identifies significant associations with parental age (fage and mage), racial factors (fwhte, foth, fblck, mwhte), and smoking (cigs). The presence of non-zero correlations for variables that had a zero Pearson correlation (e.g., meduc, mblck, monpre, drink) in the Phi_k matrix might be due to its ability to capture non-linear relationships."
   ]
  },
  {
   "cell_type": "markdown",
   "id": "30e3dcc8",
   "metadata": {},
   "source": [
    "## Base model: OLS "
   ]
  },
  {
   "cell_type": "code",
   "execution_count": 302,
   "id": "dd6c9a41",
   "metadata": {},
   "outputs": [
    {
     "name": "stdout",
     "output_type": "stream",
     "text": [
      "                            OLS Regression Results                            \n",
      "==============================================================================\n",
      "Dep. Variable:                  bwght   R-squared:                       0.180\n",
      "Model:                            OLS   Adj. R-squared:                  0.142\n",
      "Method:                 Least Squares   F-statistic:                     4.758\n",
      "Date:                Sun, 10 Mar 2024   Prob (F-statistic):           2.49e-08\n",
      "Time:                        15:33:12   Log-Likelihood:                -2702.2\n",
      "No. Observations:                 341   AIC:                             5436.\n",
      "Df Residuals:                     325   BIC:                             5498.\n",
      "Df Model:                          15                                         \n",
      "Covariance Type:            nonrobust                                         \n",
      "===============================================================================\n",
      "                  coef    std err          t      P>|t|      [0.025      0.975]\n",
      "-------------------------------------------------------------------------------\n",
      "Intercept    -572.5321    430.741     -1.329      0.185   -1419.924     274.860\n",
      "Q(\"mage\")      -0.1397     10.930     -0.013      0.990     -21.643      21.363\n",
      "Q(\"meduc\")    -18.5667     23.821     -0.779      0.436     -65.430      28.297\n",
      "Q(\"monpre\")    48.1972     34.730      1.388      0.166     -20.127     116.521\n",
      "Q(\"npvis\")      8.1820     10.253      0.798      0.425     -11.989      28.353\n",
      "Q(\"fage\")       5.9594      9.061      0.658      0.511     -11.867      23.786\n",
      "Q(\"feduc\")     24.4189     20.477      1.192      0.234     -15.866      64.704\n",
      "Q(\"omaps\")     72.4496     34.562      2.096      0.037       4.456     140.443\n",
      "Q(\"fmaps\")    336.2168     86.664      3.880      0.000     165.724     506.709\n",
      "Q(\"cigs\")     -25.8175     10.169     -2.539      0.012     -45.822      -5.812\n",
      "Q(\"drink\")     48.8225    135.863      0.359      0.720    -218.460     316.105\n",
      "Q(\"male\")     133.0477     75.902      1.753      0.081     -16.274     282.370\n",
      "Q(\"mwhte\")   -112.3279    258.616     -0.434      0.664    -621.100     396.445\n",
      "Q(\"mblck\")   -581.7190    398.981     -1.458      0.146   -1366.631     203.193\n",
      "Q(\"moth\")     121.5149    345.869      0.351      0.726    -558.909     801.939\n",
      "Q(\"fwhte\")   -236.3487    264.176     -0.895      0.372    -756.059     283.362\n",
      "Q(\"fblck\")    273.5283    379.208      0.721      0.471    -472.484    1019.541\n",
      "Q(\"foth\")    -609.7117    371.386     -1.642      0.102   -1340.335     120.912\n",
      "==============================================================================\n",
      "Omnibus:                        0.975   Durbin-Watson:                   1.986\n",
      "Prob(Omnibus):                  0.614   Jarque-Bera (JB):                1.033\n",
      "Skew:                          -0.126   Prob(JB):                        0.597\n",
      "Kurtosis:                       2.906   Cond. No.                     1.05e+18\n",
      "==============================================================================\n",
      "\n",
      "Notes:\n",
      "[1] Standard Errors assume that the covariance matrix of the errors is correctly specified.\n",
      "[2] The smallest eigenvalue is 7.93e-31. This might indicate that there are\n",
      "strong multicollinearity problems or that the design matrix is singular.\n"
     ]
    }
   ],
   "source": [
    "lm_best = smf.ols(formula = \"\"\"bwght ~ Q(\"mage\") +\n",
    "                                           Q(\"meduc\") +\n",
    "                                           Q(\"monpre\") +  \n",
    "                                           Q(\"npvis\") +\n",
    "                                           Q(\"fage\") +\n",
    "                                           Q(\"feduc\") +\n",
    "                                           Q(\"omaps\") +\n",
    "                                           Q(\"fmaps\")+\n",
    "                                           Q(\"cigs\")+\n",
    "                                           Q(\"drink\")+\n",
    "                                           Q(\"male\")+\n",
    "                                           Q(\"mwhte\")+\n",
    "                                           Q(\"mblck\")+\n",
    "                                           Q(\"moth\")+\n",
    "                                           Q(\"fwhte\")+\n",
    "                                           Q(\"fblck\")+\n",
    "                                           Q(\"foth\")\"\"\",\n",
    "                  data = df_train)\n",
    "results = lm_best.fit()\n",
    "print(results.summary())\n"
   ]
  },
  {
   "cell_type": "markdown",
   "id": "3618ae09",
   "metadata": {},
   "source": [
    "Low Model Fit: The model explains only 18% of the variance in birth weight, indicating limited predictive power.\n",
    "\n",
    "Significant Factors: Higher 5-minute Apgar scores are associated with higher birth weights, and cigarette smoking is associated with lower birth weights.\n",
    "\n",
    "Multicollinearity Warning: Indicators suggest potential multicollinearity, which can undermine the reliability of the coefficient estimates."
   ]
  },
  {
   "cell_type": "markdown",
   "id": "f2ff4715",
   "metadata": {},
   "source": [
    "# Missing Value Analysis and Imputation"
   ]
  },
  {
   "cell_type": "code",
   "execution_count": 303,
   "id": "8d5ff6c3",
   "metadata": {},
   "outputs": [
    {
     "data": {
      "text/plain": [
       "mage          0\n",
       "meduc         5\n",
       "monpre        0\n",
       "npvis        10\n",
       "fage          3\n",
       "feduc         9\n",
       "omaps         2\n",
       "fmaps         2\n",
       "cigs         22\n",
       "drink        23\n",
       "male          0\n",
       "mwhte         0\n",
       "mblck         0\n",
       "moth          0\n",
       "fwhte         0\n",
       "fblck         0\n",
       "foth          0\n",
       "bwght         0\n",
       "low_bwght     0\n",
       "dtype: int64"
      ]
     },
     "execution_count": 303,
     "metadata": {},
     "output_type": "execute_result"
    }
   ],
   "source": [
    "# Checking for missing values in the dataset\n",
    "df_train.isnull().sum()\n"
   ]
  },
  {
   "cell_type": "code",
   "execution_count": 304,
   "id": "cd8bd9d9",
   "metadata": {},
   "outputs": [
    {
     "data": {
      "text/plain": [
       "mage         0\n",
       "meduc        0\n",
       "monpre       0\n",
       "npvis        0\n",
       "fage         0\n",
       "feduc        0\n",
       "omaps        0\n",
       "fmaps        0\n",
       "cigs         0\n",
       "drink        0\n",
       "male         0\n",
       "mwhte        0\n",
       "mblck        0\n",
       "moth         0\n",
       "fwhte        0\n",
       "fblck        0\n",
       "foth         0\n",
       "bwght        0\n",
       "low_bwght    0\n",
       "dtype: int64"
      ]
     },
     "execution_count": 304,
     "metadata": {},
     "output_type": "execute_result"
    }
   ],
   "source": [
    "# Imputing missing values with median for numerical columns\n",
    "df_train['meduc'].fillna(df_train['meduc'].median(), inplace=True)\n",
    "df_train['monpre'].fillna(df_train['meduc'].median(), inplace=True)\n",
    "df_train['npvis'].fillna(df_train['npvis'].median(), inplace=True)\n",
    "df_train['fage'].fillna(df_train['fage'].median(), inplace=True)\n",
    "df_train['feduc'].fillna(df_train['feduc'].median(), inplace=True)\n",
    "df_train['omaps'].fillna(df_train['feduc'].median(), inplace=True)\n",
    "df_train['fmaps'].fillna(df_train['feduc'].median(), inplace=True)\n",
    "df_train['cigs'].fillna(df_train['cigs'].median(), inplace=True)\n",
    "df_train['drink'].fillna(df_train['drink'].median(), inplace=True)\n",
    "\n",
    "# Checking the dataset again for any remaining missing values\n",
    "df_train.isnull().sum()"
   ]
  },
  {
   "cell_type": "code",
   "execution_count": 305,
   "id": "ea650e48",
   "metadata": {},
   "outputs": [
    {
     "data": {
      "text/plain": [
       "mage       0\n",
       "meduc      5\n",
       "monpre     1\n",
       "npvis     12\n",
       "fage       0\n",
       "feduc     10\n",
       "omaps      0\n",
       "fmaps      0\n",
       "cigs       9\n",
       "drink     10\n",
       "male       0\n",
       "mwhte      0\n",
       "mblck      0\n",
       "moth       0\n",
       "fwhte      0\n",
       "fblck      0\n",
       "foth       0\n",
       "dtype: int64"
      ]
     },
     "execution_count": 305,
     "metadata": {},
     "output_type": "execute_result"
    }
   ],
   "source": [
    "# Checking for missing values in the dataset\n",
    "df_test.isnull().sum()"
   ]
  },
  {
   "cell_type": "code",
   "execution_count": 306,
   "id": "d5b0892a",
   "metadata": {},
   "outputs": [],
   "source": [
    "## Imputing missing values with median for numerical columns for test dataset \n",
    "df_test['meduc'].fillna(df_test['meduc'].median(), inplace=True)\n",
    "df_test['monpre'].fillna(df_test['meduc'].median(), inplace=True)\n",
    "df_test['npvis'].fillna(df_test['npvis'].median(), inplace=True)\n",
    "df_test['feduc'].fillna(df_test['feduc'].median(), inplace=True)\n",
    "df_test['cigs'].fillna(df_test['cigs'].median(), inplace=True)\n",
    "df_test['drink'].fillna(df_test['drink'].median(), inplace=True)\n"
   ]
  },
  {
   "cell_type": "markdown",
   "id": "017d6149",
   "metadata": {},
   "source": [
    "Imputing the missing value with median for both training and testing datasets "
   ]
  },
  {
   "cell_type": "markdown",
   "id": "7d9fc8ff",
   "metadata": {},
   "source": [
    "## Skewness Bar Chart:"
   ]
  },
  {
   "cell_type": "code",
   "execution_count": 307,
   "id": "569f6489",
   "metadata": {},
   "outputs": [
    {
     "data": {
      "image/png": "[encoded data removed]",
      "text/plain": [
       "<Figure size 1200x600 with 1 Axes>"
      ]
     },
     "metadata": {},
     "output_type": "display_data"
    }
   ],
   "source": [
    "## Transformations ##\n",
    "# Getting the skewness\n",
    "skew_values = df_train.skew()\n",
    "\n",
    "# Sort the skewness values in descending order\n",
    "skew_values_sorted = skew_values.sort_values(ascending=False)\n",
    "\n",
    "# Plotting the skewness values\n",
    "plt.figure(figsize=(12, 6))\n",
    "skew_values_sorted.plot(kind='bar')\n",
    "plt.title('Skewness of Variables in df_full')\n",
    "plt.xlabel('Variables')\n",
    "plt.ylabel('Skewness Value')\n",
    "plt.show()"
   ]
  },
  {
   "cell_type": "markdown",
   "id": "9c281ad1",
   "metadata": {},
   "source": [
    "High positive skewness for variables like drink and cigs indicates a long tail of high values, suggesting outliers or infrequent extreme consumption. Variables with lower skewness, such as fage and mage, have distributions closer to normal. A few variables, notably fmaps, mwhte, fwhte, and omaps, show negative skewness, indicating a longer left tail. Highly skewed variables might need transformation for certain types of statistical analysis to meet normality assumptions."
   ]
  },
  {
   "cell_type": "code",
   "execution_count": 308,
   "id": "52a95599",
   "metadata": {},
   "outputs": [
    {
     "data": {
      "text/plain": [
       "drink        16.915105\n",
       "cigs          5.137960\n",
       "moth          4.448486\n",
       "foth          4.448486\n",
       "mblck         3.932464\n",
       "fblck         3.824855\n",
       "monpre        2.136202\n",
       "low_bwght     1.366014\n",
       "npvis         1.288963\n",
       "fage          0.941938\n",
       "bwght        -0.682570\n",
       "feduc        -0.786798\n",
       "omaps        -2.263363\n",
       "fwhte        -2.648386\n",
       "mwhte        -2.696637\n",
       "dtype: float64"
      ]
     },
     "execution_count": 308,
     "metadata": {},
     "output_type": "execute_result"
    }
   ],
   "source": [
    "# Calculating skewness for numerical features in the training dataset\n",
    "skewness = df_train.skew()\n",
    "\n",
    "# Filtering skewness for a clearer overview, displaying skewness values\n",
    "# We're particularly interested in skewness values far from zero, indicating significant skewness\n",
    "skewness_filtered = skewness[abs(skewness) > 0.5].sort_values(ascending=False) # Filtering to show only significantly skewed features\n",
    "\n",
    "skewness_filtered\n"
   ]
  },
  {
   "cell_type": "code",
   "execution_count": 309,
   "id": "811de302",
   "metadata": {},
   "outputs": [
    {
     "name": "stdout",
     "output_type": "stream",
     "text": [
      "log_drink    13.128822\n",
      "log_cigs      3.487793\n",
      "dtype: float64\n"
     ]
    }
   ],
   "source": [
    "import numpy as np\n",
    "\n",
    "# Applying log transformation to 'drink' and 'cigs'\n",
    "df_train['log_drink'] = np.log1p(df_train['drink'])\n",
    "df_train['log_cigs'] = np.log1p(df_train['cigs'])\n",
    "\n",
    "# Checking the skewness after transformation\n",
    "print(df_train[['log_drink', 'log_cigs']].skew())\n"
   ]
  },
  {
   "cell_type": "code",
   "execution_count": 310,
   "id": "055e84ef",
   "metadata": {},
   "outputs": [
    {
     "data": {
      "text/plain": [
       "drink     10.871212\n",
       "mblck      5.306472\n",
       "cigs       4.902931\n",
       "fblck      4.869410\n",
       "foth       4.869410\n",
       "moth       4.217265\n",
       "monpre     4.110946\n",
       "fage       1.113931\n",
       "feduc     -0.639815\n",
       "mwhte     -3.083861\n",
       "fwhte     -3.224031\n",
       "omaps     -3.617550\n",
       "fmaps     -4.220630\n",
       "dtype: float64"
      ]
     },
     "execution_count": 310,
     "metadata": {},
     "output_type": "execute_result"
    }
   ],
   "source": [
    "# Calculating skewness for numerical features in the training dataset\n",
    "skewness = df_test.skew()\n",
    "\n",
    "# Filtering skewness for a clearer overview, displaying skewness values\n",
    "# We're particularly interested in skewness values far from zero, indicating significant skewness\n",
    "skewness_filtered = skewness[abs(skewness) > 0.5].sort_values(ascending=False) # Filtering to show only significantly skewed features\n",
    "\n",
    "skewness_filtered\n"
   ]
  },
  {
   "cell_type": "code",
   "execution_count": 311,
   "id": "4acfcc77",
   "metadata": {},
   "outputs": [
    {
     "name": "stdout",
     "output_type": "stream",
     "text": [
      "log_drink    10.203553\n",
      "log_cigs      3.789316\n",
      "dtype: float64\n"
     ]
    }
   ],
   "source": [
    "import numpy as np\n",
    "\n",
    "# Applying log transformation to 'drink' and 'cigs' in df_test\n",
    "df_test['log_drink'] = np.log1p(df_test['drink'])\n",
    "df_test['log_cigs'] = np.log1p(df_test['cigs'])\n",
    "\n",
    "# Checking the skewness after transformation\n",
    "new_skewness = df_test[['log_drink', 'log_cigs']].skew()\n",
    "print(new_skewness)\n"
   ]
  },
  {
   "cell_type": "markdown",
   "id": "594c9af3",
   "metadata": {},
   "source": [
    "Log Transformation Attempt: An attempt was made to normalize 'drink' and 'cigs' by applying a log transformation. Despite this effort, 'log_drink' and 'log_cigs' remain highly skewed, though the skewness is reduced, suggesting that the transformation did not fully normalize the data, potentially due to zeros or near-zero values that are unaffected by the log transformation."
   ]
  },
  {
   "cell_type": "code",
   "execution_count": 312,
   "id": "0f3126b9",
   "metadata": {},
   "outputs": [
    {
     "name": "stdout",
     "output_type": "stream",
     "text": [
      "interval columns not set, guessing: ['mage', 'meduc', 'monpre', 'npvis', 'fage', 'feduc', 'omaps', 'fmaps', 'cigs', 'drink', 'male', 'mwhte', 'mblck', 'moth', 'fwhte', 'fblck', 'foth', 'bwght', 'low_bwght', 'log_drink', 'log_cigs']\n"
     ]
    },
    {
     "data": {
      "text/html": [
       "<div>\n",
       "<style scoped>\n",
       "    .dataframe tbody tr th:only-of-type {\n",
       "        vertical-align: middle;\n",
       "    }\n",
       "\n",
       "    .dataframe tbody tr th {\n",
       "        vertical-align: top;\n",
       "    }\n",
       "\n",
       "    .dataframe thead th {\n",
       "        text-align: right;\n",
       "    }\n",
       "</style>\n",
       "<table border=\"1\" class=\"dataframe\">\n",
       "  <thead>\n",
       "    <tr style=\"text-align: right;\">\n",
       "      <th></th>\n",
       "      <th>Variable</th>\n",
       "      <th>Correlation with Low Birthweight</th>\n",
       "    </tr>\n",
       "  </thead>\n",
       "  <tbody>\n",
       "    <tr>\n",
       "      <th>0</th>\n",
       "      <td>low_bwght</td>\n",
       "      <td>1.0000</td>\n",
       "    </tr>\n",
       "    <tr>\n",
       "      <th>1</th>\n",
       "      <td>bwght</td>\n",
       "      <td>0.9891</td>\n",
       "    </tr>\n",
       "    <tr>\n",
       "      <th>2</th>\n",
       "      <td>omaps</td>\n",
       "      <td>0.4858</td>\n",
       "    </tr>\n",
       "    <tr>\n",
       "      <th>3</th>\n",
       "      <td>fmaps</td>\n",
       "      <td>0.3233</td>\n",
       "    </tr>\n",
       "    <tr>\n",
       "      <th>4</th>\n",
       "      <td>npvis</td>\n",
       "      <td>0.2153</td>\n",
       "    </tr>\n",
       "    <tr>\n",
       "      <th>5</th>\n",
       "      <td>log_cigs</td>\n",
       "      <td>0.1779</td>\n",
       "    </tr>\n",
       "    <tr>\n",
       "      <th>6</th>\n",
       "      <td>feduc</td>\n",
       "      <td>0.1563</td>\n",
       "    </tr>\n",
       "    <tr>\n",
       "      <th>7</th>\n",
       "      <td>meduc</td>\n",
       "      <td>0.1255</td>\n",
       "    </tr>\n",
       "    <tr>\n",
       "      <th>8</th>\n",
       "      <td>cigs</td>\n",
       "      <td>0.1222</td>\n",
       "    </tr>\n",
       "    <tr>\n",
       "      <th>9</th>\n",
       "      <td>fwhte</td>\n",
       "      <td>0.0000</td>\n",
       "    </tr>\n",
       "    <tr>\n",
       "      <th>10</th>\n",
       "      <td>log_drink</td>\n",
       "      <td>0.0000</td>\n",
       "    </tr>\n",
       "    <tr>\n",
       "      <th>11</th>\n",
       "      <td>foth</td>\n",
       "      <td>0.0000</td>\n",
       "    </tr>\n",
       "    <tr>\n",
       "      <th>12</th>\n",
       "      <td>fblck</td>\n",
       "      <td>0.0000</td>\n",
       "    </tr>\n",
       "    <tr>\n",
       "      <th>13</th>\n",
       "      <td>mage</td>\n",
       "      <td>0.0000</td>\n",
       "    </tr>\n",
       "    <tr>\n",
       "      <th>14</th>\n",
       "      <td>moth</td>\n",
       "      <td>0.0000</td>\n",
       "    </tr>\n",
       "    <tr>\n",
       "      <th>15</th>\n",
       "      <td>mblck</td>\n",
       "      <td>0.0000</td>\n",
       "    </tr>\n",
       "    <tr>\n",
       "      <th>16</th>\n",
       "      <td>mwhte</td>\n",
       "      <td>0.0000</td>\n",
       "    </tr>\n",
       "    <tr>\n",
       "      <th>17</th>\n",
       "      <td>drink</td>\n",
       "      <td>0.0000</td>\n",
       "    </tr>\n",
       "    <tr>\n",
       "      <th>18</th>\n",
       "      <td>fage</td>\n",
       "      <td>0.0000</td>\n",
       "    </tr>\n",
       "    <tr>\n",
       "      <th>19</th>\n",
       "      <td>monpre</td>\n",
       "      <td>0.0000</td>\n",
       "    </tr>\n",
       "    <tr>\n",
       "      <th>20</th>\n",
       "      <td>male</td>\n",
       "      <td>0.0000</td>\n",
       "    </tr>\n",
       "  </tbody>\n",
       "</table>\n",
       "</div>"
      ],
      "text/plain": [
       "     Variable  Correlation with Low Birthweight\n",
       "0   low_bwght                            1.0000\n",
       "1       bwght                            0.9891\n",
       "2       omaps                            0.4858\n",
       "3       fmaps                            0.3233\n",
       "4       npvis                            0.2153\n",
       "5    log_cigs                            0.1779\n",
       "6       feduc                            0.1563\n",
       "7       meduc                            0.1255\n",
       "8        cigs                            0.1222\n",
       "9       fwhte                            0.0000\n",
       "10  log_drink                            0.0000\n",
       "11       foth                            0.0000\n",
       "12      fblck                            0.0000\n",
       "13       mage                            0.0000\n",
       "14       moth                            0.0000\n",
       "15      mblck                            0.0000\n",
       "16      mwhte                            0.0000\n",
       "17      drink                            0.0000\n",
       "18       fage                            0.0000\n",
       "19     monpre                            0.0000\n",
       "20       male                            0.0000"
      ]
     },
     "execution_count": 312,
     "metadata": {},
     "output_type": "execute_result"
    }
   ],
   "source": [
    "# Now, calculating the phi coefficient for correlation\n",
    "birth_phi_corr = df_train.phik_matrix().round(decimals=4)\n",
    "\n",
    "# Checking the results for 'bwght'\n",
    "correlation_with_bwght = birth_phi_corr.loc[:, 'low_bwght'].sort_values(ascending=False).to_frame(name='Correlation with Low Birthweight')\n",
    "correlation_with_bwght.reset_index(inplace=True)\n",
    "correlation_with_bwght.rename(columns={'index': 'Variable'}, inplace=True)\n",
    "\n",
    "# Printing the reults \n",
    "correlation_with_bwght"
   ]
  },
  {
   "cell_type": "markdown",
   "id": "9c6749eb",
   "metadata": {},
   "source": [
    "#  Feature Engineering </h3><br>"
   ]
  },
  {
   "cell_type": "markdown",
   "id": "5ee8d45e",
   "metadata": {},
   "source": [
    "1.apgar_npvis_interaction: \n",
    "\n",
    "This feature combines Apgar scores (omaps and fmaps) and number of prenatal visits (npvis). The Apgar score is a quick test given to a baby between 1 and 5 minutes after birth to assess their health status, which includes heart rate, breathing, muscle tone, reflex response, and color. By multiplying the sum of these scores by the number of prenatal visits, this feature attempts to capture the relationship between the baby's initial health status and the amount of prenatal care received. It operates on the assumption that more prenatal \n",
    "\n",
    "2.mage_bracket and fage_bracket: \n",
    "\n",
    "These features divide maternal and paternal ages (mage and fage) into brackets or groups ('young','middle-aged', and 'older') based on predefined age ranges. The rationale here is to investigate the impact of parental age on birth outcomes in greater detail. Different age groups may have different risks or associations with birth weight, and categorizing ages can aid in detecting these patterns.\n",
    "\n",
    "3.health_behavior_score: \n",
    "\n",
    "The underlying assumption is that these health behaviors negatively impact fetal development, with higher scores indicating potentially greater risk to the baby's health, including birth weight. By combining them into a single score, this feature seeks to capture the cumulative impact of maternal smoking and drinking habits on birth weight.\n",
    "\n",
    "4 prenatal_care_index:\n",
    "\n",
    "This feature is designed to provide a measure of prenatal care quality, calculated as the number of prenatal visits (npvis) adjusted by the month prenatal care began (monpre). The idea is that starting prenatal care earlier and attending more visits are both indicators of better prenatal care. This index could highlight the importance of early and frequent prenatal care in predicting birth weight outcomes. The division by monpre adjusts the visit count to emphasize the timing of care initiation—earlier starts lead to higher index values, suggesting potentially better prenatal care engagement.\n",
    "\n",
    "5.weighted_parental_age:\n",
    "\n",
    "By weighting the ages of the mother and father differently (in this case, giving more weight to the mother's age), this feature acknowledges that maternal age might have a more significant impact on birth outcomes than paternal age. The weights (0.6 for maternal age and 0.4 for paternal age) reflect a presumed higher importance of maternal age in influencing birth outcomes, such as birth weight. This weighted average attempts to create a single metric that captures the combined effect of parental ages, with an emphasis on the mother's age.\n",
    "\n",
    "6.prenatal_adequacy: \n",
    "\n",
    "This binary feature is created based on the number of prenatal visits (npvis), marking 1 for adequate prenatal care (defined here as having 8 or more visits) and 0 for inadequate care. The threshold of 8 visits is likely chosen based on healthcare guidelines or literature that define a minimum number of prenatal visits for a pregnancy to be considered well-monitored. This feature is designed to directly assess the adequacy of prenatal care in relation to birth weight outcomes, with the hypothesis that adequate prenatal care is associated with healthier birth weights."
   ]
  },
  {
   "cell_type": "code",
   "execution_count": 313,
   "id": "f83f34bf",
   "metadata": {},
   "outputs": [
    {
     "name": "stderr",
     "output_type": "stream",
     "text": [
      "C:\\Users\\racha\\anaconda3\\Lib\\site-packages\\seaborn\\categorical.py:641: FutureWarning: The default of observed=False is deprecated and will be changed to True in a future version of pandas. Pass observed=False to retain current behavior or observed=True to adopt the future default and silence this warning.\n",
      "  grouped_vals = vals.groupby(grouper)\n"
     ]
    },
    {
     "data": {
      "image/png": "[encoded data removed]",
      "text/plain": [
       "<Figure size 640x480 with 1 Axes>"
      ]
     },
     "metadata": {},
     "output_type": "display_data"
    }
   ],
   "source": [
    "df_train['apgar_npvis_interaction'] = (df_train['omaps'] + df_train['fmaps']) * df_train['npvis']\n",
    "df_train['mage_bracket'] = pd.cut(df_train['mage'], bins=[0, 24, 35, max(df_train['mage'])], labels=['young', 'middle-aged', 'older'])\n",
    "df_train['fage_bracket'] = pd.cut(df_train['fage'], bins=[0, 24, 35, max(df_train['fage'])], labels=['young', 'middle-aged', 'older'])\n",
    "# Example for 'mage_bracket'\n",
    "sns.boxplot(data=df_train, x='mage_bracket', y='bwght')\n",
    "plt.title('Maternal Age Bracket vs. Birth Weight')\n",
    "plt.show()\n",
    "\n",
    "df_train['mage_bracket'] = pd.cut(df_train['mage'], bins=[0, 24, 35, max(df_train['mage'])], labels=['young', 'middle-aged', 'older'])\n",
    "df_train['fage_bracket'] = pd.cut(df_train['fage'], bins=[0, 24, 35, max(df_train['fage'])], labels=['young', 'middle-aged', 'older'])\n"
   ]
  },
  {
   "cell_type": "markdown",
   "id": "7ecc8e84",
   "metadata": {},
   "source": [
    "This visual analysis emphasizes the need to consider maternal age in prenatal care strategies, potentially tailoring interventions for middle-aged expectant mothers who exhibit a wider range of birth weights, thereby addressing the factors contributing to this variability."
   ]
  },
  {
   "cell_type": "code",
   "execution_count": 314,
   "id": "d1a43639",
   "metadata": {},
   "outputs": [],
   "source": [
    "# 'health_behavior_score'\n",
    "df_train['health_behavior_score'] = (-1) * df_train['cigs'] + (-1) * df_train['drink']  # Assuming higher values are worse\n",
    "#'prenatal_care_index'\n",
    "df_train['prenatal_care_index'] = df_train['npvis'] * (1 / df_train['monpre'])\n",
    "# Weighted Features\n",
    "# Weight mother's age more if it is deemed more important\n",
    "df_train['weighted_parental_age'] = df_train['mage'] * 0.6 + df_train['fage'] * 0.4\n",
    "# Prenatal Care Adequacy\n",
    "df_train['prenatal_adequacy'] = np.where(df_train['npvis'] >= 8, 1, 0)\n"
   ]
  },
  {
   "cell_type": "code",
   "execution_count": 315,
   "id": "e2f0fa14",
   "metadata": {},
   "outputs": [],
   "source": [
    "df_test['apgar_npvis_interaction'] = (df_test['omaps'] + df_test['fmaps']) * df_test['npvis']\n",
    "df_test['mage_bracket'] = pd.cut(df_test['mage'], bins=[0, 24, 35, max(df_test['mage'])], labels=['young', 'middle-aged', 'older'])\n",
    "df_test['fage_bracket'] = pd.cut(df_test['fage'], bins=[0, 24, 35, max(df_test['fage'])], labels=['young', 'middle-aged', 'older'])\n",
    "# Assuming 'cigs' and 'drink' are already normalized or their scales are comparable\n",
    "df_test['health_behavior_score'] = df_test['cigs'] + df_test['drink']\n",
    "df_test['prenatal_care_index'] = df_test['npvis'] * (1 / df_test['monpre'])\n",
    "# Weighted Features\n",
    "# Weight mother's age more if it is deemed more important\n",
    "df_test['weighted_parental_age'] = df_test['mage'] * 0.6 + df_test['fage'] * 0.4\n",
    "# Prenatal Care Adequacy\n",
    "df_test['prenatal_adequacy'] = np.where(df_test['npvis'] >= 8, 1, 0)\n"
   ]
  },
  {
   "cell_type": "markdown",
   "id": "648742c1",
   "metadata": {},
   "source": [
    "## one-hot encoding"
   ]
  },
  {
   "cell_type": "code",
   "execution_count": 316,
   "id": "b4104d94",
   "metadata": {},
   "outputs": [],
   "source": [
    "#converting  categorical variables into dummy \n",
    "df_train= pd.get_dummies(df_train, columns=['mage_bracket', 'fage_bracket'], drop_first=True)\n"
   ]
  },
  {
   "cell_type": "code",
   "execution_count": 317,
   "id": "0b6772ee",
   "metadata": {},
   "outputs": [],
   "source": [
    "#converting  categorical variables into dummy \n",
    "df_test= pd.get_dummies(df_test, columns=['mage_bracket', 'fage_bracket'], drop_first=True)\n"
   ]
  },
  {
   "cell_type": "code",
   "execution_count": 318,
   "id": "8be2efa1",
   "metadata": {},
   "outputs": [
    {
     "name": "stdout",
     "output_type": "stream",
     "text": [
      "interval columns not set, guessing: ['mage', 'meduc', 'monpre', 'npvis', 'fage', 'feduc', 'omaps', 'fmaps', 'cigs', 'drink', 'male', 'mwhte', 'mblck', 'moth', 'fwhte', 'fblck', 'foth', 'bwght', 'low_bwght', 'log_drink', 'log_cigs', 'apgar_npvis_interaction', 'health_behavior_score', 'prenatal_care_index', 'weighted_parental_age', 'prenatal_adequacy']\n"
     ]
    },
    {
     "data": {
      "text/html": [
       "<div>\n",
       "<style scoped>\n",
       "    .dataframe tbody tr th:only-of-type {\n",
       "        vertical-align: middle;\n",
       "    }\n",
       "\n",
       "    .dataframe tbody tr th {\n",
       "        vertical-align: top;\n",
       "    }\n",
       "\n",
       "    .dataframe thead th {\n",
       "        text-align: right;\n",
       "    }\n",
       "</style>\n",
       "<table border=\"1\" class=\"dataframe\">\n",
       "  <thead>\n",
       "    <tr style=\"text-align: right;\">\n",
       "      <th></th>\n",
       "      <th>Variable</th>\n",
       "      <th>Correlation with Low Birthweight</th>\n",
       "    </tr>\n",
       "  </thead>\n",
       "  <tbody>\n",
       "    <tr>\n",
       "      <th>0</th>\n",
       "      <td>low_bwght</td>\n",
       "      <td>1.0000</td>\n",
       "    </tr>\n",
       "    <tr>\n",
       "      <th>1</th>\n",
       "      <td>bwght</td>\n",
       "      <td>0.9891</td>\n",
       "    </tr>\n",
       "    <tr>\n",
       "      <th>2</th>\n",
       "      <td>omaps</td>\n",
       "      <td>0.4858</td>\n",
       "    </tr>\n",
       "    <tr>\n",
       "      <th>3</th>\n",
       "      <td>fmaps</td>\n",
       "      <td>0.3233</td>\n",
       "    </tr>\n",
       "    <tr>\n",
       "      <th>4</th>\n",
       "      <td>apgar_npvis_interaction</td>\n",
       "      <td>0.2984</td>\n",
       "    </tr>\n",
       "    <tr>\n",
       "      <th>5</th>\n",
       "      <td>prenatal_adequacy</td>\n",
       "      <td>0.2807</td>\n",
       "    </tr>\n",
       "    <tr>\n",
       "      <th>6</th>\n",
       "      <td>npvis</td>\n",
       "      <td>0.2153</td>\n",
       "    </tr>\n",
       "    <tr>\n",
       "      <th>7</th>\n",
       "      <td>log_cigs</td>\n",
       "      <td>0.1779</td>\n",
       "    </tr>\n",
       "    <tr>\n",
       "      <th>8</th>\n",
       "      <td>health_behavior_score</td>\n",
       "      <td>0.1721</td>\n",
       "    </tr>\n",
       "    <tr>\n",
       "      <th>9</th>\n",
       "      <td>feduc</td>\n",
       "      <td>0.1563</td>\n",
       "    </tr>\n",
       "    <tr>\n",
       "      <th>10</th>\n",
       "      <td>meduc</td>\n",
       "      <td>0.1255</td>\n",
       "    </tr>\n",
       "    <tr>\n",
       "      <th>11</th>\n",
       "      <td>cigs</td>\n",
       "      <td>0.1222</td>\n",
       "    </tr>\n",
       "    <tr>\n",
       "      <th>12</th>\n",
       "      <td>mage_bracket_middle-aged</td>\n",
       "      <td>0.0940</td>\n",
       "    </tr>\n",
       "    <tr>\n",
       "      <th>13</th>\n",
       "      <td>prenatal_care_index</td>\n",
       "      <td>0.0848</td>\n",
       "    </tr>\n",
       "    <tr>\n",
       "      <th>14</th>\n",
       "      <td>weighted_parental_age</td>\n",
       "      <td>0.0000</td>\n",
       "    </tr>\n",
       "    <tr>\n",
       "      <th>15</th>\n",
       "      <td>log_drink</td>\n",
       "      <td>0.0000</td>\n",
       "    </tr>\n",
       "    <tr>\n",
       "      <th>16</th>\n",
       "      <td>mage_bracket_older</td>\n",
       "      <td>0.0000</td>\n",
       "    </tr>\n",
       "    <tr>\n",
       "      <th>17</th>\n",
       "      <td>fage_bracket_middle-aged</td>\n",
       "      <td>0.0000</td>\n",
       "    </tr>\n",
       "    <tr>\n",
       "      <th>18</th>\n",
       "      <td>mage</td>\n",
       "      <td>0.0000</td>\n",
       "    </tr>\n",
       "    <tr>\n",
       "      <th>19</th>\n",
       "      <td>fblck</td>\n",
       "      <td>0.0000</td>\n",
       "    </tr>\n",
       "    <tr>\n",
       "      <th>20</th>\n",
       "      <td>foth</td>\n",
       "      <td>0.0000</td>\n",
       "    </tr>\n",
       "    <tr>\n",
       "      <th>21</th>\n",
       "      <td>fwhte</td>\n",
       "      <td>0.0000</td>\n",
       "    </tr>\n",
       "    <tr>\n",
       "      <th>22</th>\n",
       "      <td>moth</td>\n",
       "      <td>0.0000</td>\n",
       "    </tr>\n",
       "    <tr>\n",
       "      <th>23</th>\n",
       "      <td>mblck</td>\n",
       "      <td>0.0000</td>\n",
       "    </tr>\n",
       "    <tr>\n",
       "      <th>24</th>\n",
       "      <td>mwhte</td>\n",
       "      <td>0.0000</td>\n",
       "    </tr>\n",
       "    <tr>\n",
       "      <th>25</th>\n",
       "      <td>male</td>\n",
       "      <td>0.0000</td>\n",
       "    </tr>\n",
       "    <tr>\n",
       "      <th>26</th>\n",
       "      <td>drink</td>\n",
       "      <td>0.0000</td>\n",
       "    </tr>\n",
       "    <tr>\n",
       "      <th>27</th>\n",
       "      <td>fage</td>\n",
       "      <td>0.0000</td>\n",
       "    </tr>\n",
       "    <tr>\n",
       "      <th>28</th>\n",
       "      <td>monpre</td>\n",
       "      <td>0.0000</td>\n",
       "    </tr>\n",
       "    <tr>\n",
       "      <th>29</th>\n",
       "      <td>fage_bracket_older</td>\n",
       "      <td>0.0000</td>\n",
       "    </tr>\n",
       "  </tbody>\n",
       "</table>\n",
       "</div>"
      ],
      "text/plain": [
       "                    Variable  Correlation with Low Birthweight\n",
       "0                  low_bwght                            1.0000\n",
       "1                      bwght                            0.9891\n",
       "2                      omaps                            0.4858\n",
       "3                      fmaps                            0.3233\n",
       "4    apgar_npvis_interaction                            0.2984\n",
       "5          prenatal_adequacy                            0.2807\n",
       "6                      npvis                            0.2153\n",
       "7                   log_cigs                            0.1779\n",
       "8      health_behavior_score                            0.1721\n",
       "9                      feduc                            0.1563\n",
       "10                     meduc                            0.1255\n",
       "11                      cigs                            0.1222\n",
       "12  mage_bracket_middle-aged                            0.0940\n",
       "13       prenatal_care_index                            0.0848\n",
       "14     weighted_parental_age                            0.0000\n",
       "15                 log_drink                            0.0000\n",
       "16        mage_bracket_older                            0.0000\n",
       "17  fage_bracket_middle-aged                            0.0000\n",
       "18                      mage                            0.0000\n",
       "19                     fblck                            0.0000\n",
       "20                      foth                            0.0000\n",
       "21                     fwhte                            0.0000\n",
       "22                      moth                            0.0000\n",
       "23                     mblck                            0.0000\n",
       "24                     mwhte                            0.0000\n",
       "25                      male                            0.0000\n",
       "26                     drink                            0.0000\n",
       "27                      fage                            0.0000\n",
       "28                    monpre                            0.0000\n",
       "29        fage_bracket_older                            0.0000"
      ]
     },
     "execution_count": 318,
     "metadata": {},
     "output_type": "execute_result"
    }
   ],
   "source": [
    "# Now, calculating the phi coefficient for correlation\n",
    "birth_phi_corr = df_train.phik_matrix().round(decimals=4)\n",
    "\n",
    "# Checking the results for 'bwght'\n",
    "correlation_with_bwght = birth_phi_corr.loc[:, 'low_bwght'].sort_values(ascending=False).to_frame(name='Correlation with Low Birthweight')\n",
    "correlation_with_bwght.reset_index(inplace=True)\n",
    "correlation_with_bwght.rename(columns={'index': 'Variable'}, inplace=True)\n",
    "\n",
    "# Printing the reults \n",
    "correlation_with_bwght"
   ]
  },
  {
   "cell_type": "markdown",
   "id": "334900cd",
   "metadata": {},
   "source": [
    "bwght (birth weight) has a very high correlation with low_bwght (0.9891), suggesting that as birth weight decreases, the likelihood of being classified as low birth weight increases.\n",
    "Obstetric scores (omaps and fmaps) also show moderate correlations (0.4858 and 0.3233, respectively), indicating they're relevant factors in predicting low birth weight.\n",
    "The apgar_npvis_interaction, which might represent an interaction between the Apgar score and the number of prenatal visits, shows a meaningful correlation (0.2984), possibly highlighting the importance of prenatal care.\n",
    "Interestingly, both npvis (number of prenatal visits) and factors related to health behavior (log_cigs for logged cigarette consumption, and health_behavior_score) are less correlated than bwght but still show a positive relationship with low birth weight.\n",
    "Variables transformed to reduce skewness (log_cigs and log_drink) show a different correlation compared to their original forms, with log_cigs showing a noticeable correlation (0.1779) while log_drink does not (0.0000), emphasizing the impact of transformation on statistical relationships.\n",
    "Many variables, especially demographic and prenatal care index variables, have a zero correlation coefficient with low_bwght, suggesting no linear association within this dataset. It's important to note that a zero phi coefficient doesn't mean there is no relationship, but rather that any relationship isn't linear or it might be that these variables don't affect the likelihood of low birth weight within the scope of this dataset.\n",
    "The results suggest that while some factors are strongly associated with low birth weight, others show little to no linear relationship in this context."
   ]
  },
  {
   "cell_type": "markdown",
   "id": "5775756a",
   "metadata": {},
   "source": [
    "# Data Partitioning"
   ]
  },
  {
   "cell_type": "code",
   "execution_count": 319,
   "id": "ca731366",
   "metadata": {},
   "outputs": [
    {
     "name": "stdout",
     "output_type": "stream",
     "text": [
      "\n",
      "Original Dataset Dimensions\n",
      "---------------------------\n",
      "Observations (Rows): 384\n",
      "Features  (Columns): 30\n",
      "\n",
      "\n",
      "Training Data (X-side)\n",
      "----------------------\n",
      "Observations (Rows): 288\n",
      "Features  (Columns): 18\n",
      "\n",
      "\n",
      "Training Data (y-side)\n",
      "----------------------\n",
      "Feature Name:        low_bwght\n",
      "Observations (Rows): 288\n",
      "\n",
      "\n",
      "Testing Data (X-side)\n",
      "---------------------\n",
      "Observations (Rows): 96\n",
      "Features  (Columns): 18\n",
      "\n",
      "\n",
      "Testing Data (y-side)\n",
      "---------------------\n",
      "Feature Name:        low_bwght\n",
      "Observations (Rows): 96\n"
     ]
    }
   ],
   "source": [
    "#!###########################!#\n",
    "#!# choose your x-variables #!#\n",
    "#!###########################!#\n",
    "\n",
    "x_features = ['drink', 'cigs','mage','meduc','monpre','npvis','fage','feduc','male','mwhte','mblck','apgar_npvis_interaction','health_behavior_score','mage_bracket_middle-aged','mage_bracket_older','fage_bracket_middle-aged','fage_bracket_older','prenatal_adequacy']\n",
    "\n",
    "\n",
    "## ########################### ##\n",
    "## DON'T CHANGE THE CODE BELOW ##\n",
    "## ########################### ##\n",
    "\n",
    "# prepping data for train-test split\n",
    "x_data = df_train[x_features]\n",
    "\n",
    "y_data = df_train[y_variable]\n",
    "\n",
    "\n",
    "# train-test split (to validate the model)\n",
    "x_train, x_test, y_train, y_test = train_test_split(x_data, \n",
    "                                                    y_data, \n",
    "                                                    test_size    = 0.25,\n",
    "                                                    random_state = 702 )\n",
    "\n",
    "\n",
    "# results of train-test split\n",
    "print(f\"\"\"\n",
    "Original Dataset Dimensions\n",
    "---------------------------\n",
    "Observations (Rows): {df_train.shape[0]}\n",
    "Features  (Columns): {df_train.shape[1]}\n",
    "\n",
    "\n",
    "Training Data (X-side)\n",
    "----------------------\n",
    "Observations (Rows): {x_train.shape[0]}\n",
    "Features  (Columns): {x_train.shape[1]}\n",
    "\n",
    "\n",
    "Training Data (y-side)\n",
    "----------------------\n",
    "Feature Name:        {y_train.name}\n",
    "Observations (Rows): {y_train.shape[0]}\n",
    "\n",
    "\n",
    "Testing Data (X-side)\n",
    "---------------------\n",
    "Observations (Rows): {x_test.shape[0]}\n",
    "Features  (Columns): {x_test.shape[1]}\n",
    "\n",
    "\n",
    "Testing Data (y-side)\n",
    "---------------------\n",
    "Feature Name:        {y_test.name}\n",
    "Observations (Rows): {y_test.shape[0]}\"\"\")"
   ]
  },
  {
   "cell_type": "markdown",
   "id": "88bca6ad",
   "metadata": {},
   "source": [
    "## Logistic Regression"
   ]
  },
  {
   "cell_type": "code",
   "execution_count": 320,
   "id": "a3a6edb7",
   "metadata": {},
   "outputs": [
    {
     "name": "stdout",
     "output_type": "stream",
     "text": [
      "Training Score: 0.7917\n",
      "Testing Score : 0.7812\n",
      "Train-Test Gap : 0.0105\n"
     ]
    },
    {
     "name": "stderr",
     "output_type": "stream",
     "text": [
      "C:\\Users\\racha\\anaconda3\\Lib\\site-packages\\sklearn\\linear_model\\_logistic.py:458: ConvergenceWarning: lbfgs failed to converge (status=1):\n",
      "STOP: TOTAL NO. of ITERATIONS REACHED LIMIT.\n",
      "\n",
      "Increase the number of iterations (max_iter) or scale the data as shown in:\n",
      "    https://scikit-learn.org/stable/modules/preprocessing.html\n",
      "Please also refer to the documentation for alternative solver options:\n",
      "    https://scikit-learn.org/stable/modules/linear_model.html#logistic-regression\n",
      "  n_iter_i = _check_optimize_result(\n"
     ]
    }
   ],
   "source": [
    "# Naming the model\n",
    "model_name = \"Logistic Regression\"\n",
    "\n",
    "# Instantiating model object\n",
    "model = LogisticRegression(solver       = 'lbfgs',\n",
    "                           C            = 1,\n",
    "                           class_weight = None,\n",
    "                           random_state = 702)\n",
    "\n",
    "# Fitting to training data\n",
    "model.fit(x_train, y_train)\n",
    "\n",
    "# Predicting on new data\n",
    "y_pred_logreg = model.predict(x_test)\n",
    "\n",
    "# Scoring results\n",
    "model_train_score = model.score(x_train, y_train).round(4)  # using accuracy\n",
    "model_test_score  = model.score(x_test, y_test).round(4)  # using accuracy\n",
    "model_gap         = abs(model_train_score - model_test_score).round(4)\n",
    "\n",
    "# Displaying results\n",
    "print('Training Score:', model_train_score)\n",
    "print('Testing Score :', model_test_score)\n",
    "print('Train-Test Gap :', model_gap)"
   ]
  },
  {
   "cell_type": "markdown",
   "id": "25b84652",
   "metadata": {},
   "source": [
    "## RidgeClassifier"
   ]
  },
  {
   "cell_type": "code",
   "execution_count": 321,
   "id": "db657377",
   "metadata": {},
   "outputs": [
    {
     "name": "stdout",
     "output_type": "stream",
     "text": [
      "Ridge Classifier Accuracy: 0.7708333333333334\n",
      "Training Score: 0.7917\n",
      "Testing Score : 0.7812\n",
      "Train-Test Gap : 0.0105\n"
     ]
    }
   ],
   "source": [
    "\n",
    "ridge_clf = RidgeClassifier()\n",
    "ridge_clf.fit(x_train, y_train)\n",
    "y_pred_ridge = ridge_clf.predict(x_test)\n",
    "print(\"Ridge Classifier Accuracy:\", accuracy_score(y_test, y_pred_ridge))\n",
    "\n",
    "# Scoring results\n",
    "model_train_score = model.score(x_train, y_train).round(4)  # using accuracy\n",
    "model_test_score  = model.score(x_test, y_test).round(4)  # using accuracy\n",
    "model_gap         = abs(model_train_score - model_test_score).round(4)\n",
    "\n",
    "# Displaying results\n",
    "print('Training Score:', model_train_score)\n",
    "print('Testing Score :', model_test_score)\n",
    "print('Train-Test Gap :', model_gap)\n"
   ]
  },
  {
   "cell_type": "markdown",
   "id": "a5c893d1",
   "metadata": {},
   "source": [
    "## KNN Classifier"
   ]
  },
  {
   "cell_type": "code",
   "execution_count": 322,
   "id": "eafd91ce",
   "metadata": {},
   "outputs": [
    {
     "name": "stdout",
     "output_type": "stream",
     "text": [
      "KNN Training Score: 0.7778\n",
      "KNN Testing Score : 0.7812\n",
      "KNN Train-Test Gap: 0.0034\n"
     ]
    }
   ],
   "source": [
    "model_name = 'Knn'\n",
    "\n",
    "# INSTANTIATING a KNN model object\n",
    "knn_reg = KNeighborsClassifier(algorithm = 'auto',\n",
    "                               n_neighbors = 19)\n",
    "\n",
    "\n",
    "# FITTING to the training data\n",
    "knn_fit = knn_reg.fit(x_train, y_train)\n",
    "\n",
    "\n",
    "# PREDICTING on new data\n",
    "knn_reg_pred = knn_fit.predict(x_test)\n",
    "\n",
    "\n",
    "# SCORING the results\n",
    "print('KNN Training Score:', knn_reg.score(x_train, y_train) .round(decimals = 4))\n",
    "print('KNN Testing Score :',  knn_reg.score(x_test, y_test).round(decimals = 4))\n",
    "\n",
    "\n",
    "# Saving scoring data for future use\n",
    "knn_reg_score_train = knn_reg.score(x_train, y_train).round(decimals = 4)\n",
    "knn_reg_score_test  = knn_reg.score(x_test, y_test).round(decimals = 4)\n",
    "\n",
    "\n",
    "# Displaying and saving the gap between training and testing\n",
    "print('KNN Train-Test Gap:', abs(knn_reg_score_train - knn_reg_score_test).round(decimals = 4))\n",
    "knn_reg_test_gap = abs(knn_reg_score_train - knn_reg_score_test).round(decimals = 4)"
   ]
  },
  {
   "cell_type": "markdown",
   "id": "7c8c8448",
   "metadata": {},
   "source": [
    "## DecisionTreeClassifier"
   ]
  },
  {
   "cell_type": "code",
   "execution_count": 323,
   "id": "711629a8",
   "metadata": {
    "scrolled": true
   },
   "outputs": [
    {
     "name": "stdout",
     "output_type": "stream",
     "text": [
      "Training Score: 0.7917\n",
      "Testing Score : 0.7812\n",
      "Train-Test Gap : 0.0105\n"
     ]
    }
   ],
   "source": [
    "#from sklearn.tree import DecisionTreeClassifier\n",
    "\n",
    "dtree = DecisionTreeClassifier(random_state=42)\n",
    "dtree.fit(x_train, y_train)\n",
    "y_pred_dtree = dtree.predict(x_test)\n",
    "\n",
    "# Scoring results\n",
    "model_train_score = model.score(x_train, y_train).round(4)  # using accuracy\n",
    "model_test_score  = model.score(x_test, y_test).round(4)  # using accuracy\n",
    "model_gap         = abs(model_train_score - model_test_score).round(4)\n",
    "\n",
    "# Displaying results\n",
    "print('Training Score:', model_train_score)\n",
    "print('Testing Score :', model_test_score)\n",
    "print('Train-Test Gap :', model_gap)\n"
   ]
  },
  {
   "cell_type": "markdown",
   "id": "72c04080",
   "metadata": {},
   "source": [
    "## Random Forest Classification"
   ]
  },
  {
   "cell_type": "code",
   "execution_count": 324,
   "id": "968bbe47",
   "metadata": {},
   "outputs": [
    {
     "name": "stdout",
     "output_type": "stream",
     "text": [
      "Training Score : 1.0\n",
      "Testing Score  : 0.8021\n",
      "Train-Test Gap : 0.1979\n"
     ]
    }
   ],
   "source": [
    "# Setting a model name\n",
    "model_name = \"Random Forest Classification\"\n",
    "\n",
    "\n",
    "# INSTANTIATING a model object\n",
    "model = RandomForestClassifier(n_estimators     = 100,\n",
    "                               criterion        = 'gini',\n",
    "                               max_depth        = None,\n",
    "                               min_samples_leaf = 1,\n",
    "                               bootstrap        = True,\n",
    "                               warm_start       = False,\n",
    "                               random_state     = 702)\n",
    "\n",
    "forest_tuned = RandomForestClassifier(criterion        = 'entropy',\n",
    "                                      min_samples_leaf = 11,\n",
    "                                      n_estimators     = 350,\n",
    "                                      warm_start       = True,\n",
    "                                      bootstrap        = True,\n",
    "                                      random_state     = 702)\n",
    "\n",
    "\n",
    "\n",
    "# FITTING to the training data\n",
    "model_fit = model.fit(x_train, y_train)\n",
    "\n",
    "\n",
    "# PREDICTING on new data\n",
    "y_pred_rf= model.predict(x_test)\n",
    "\n",
    "\n",
    "# SCORING the results\n",
    "model_train_score = model.score(x_train, y_train).round(decimals = 4)\n",
    "model_test_score  = model.score(x_test, y_test)  .round(decimals = 4)\n",
    "model_gap         = abs(model_train_score - model_test_score).round(4)\n",
    "\n",
    "\n",
    "# displaying results\n",
    "print('Training Score :', model_train_score)\n",
    "print('Testing Score  :', model_test_score)\n",
    "print('Train-Test Gap :', model_gap)"
   ]
  },
  {
   "cell_type": "markdown",
   "id": "201a3e76",
   "metadata": {},
   "source": [
    "## GradientBoostingClassifier"
   ]
  },
  {
   "cell_type": "code",
   "execution_count": 325,
   "id": "6a5baa81",
   "metadata": {},
   "outputs": [
    {
     "name": "stdout",
     "output_type": "stream",
     "text": [
      "Training Score : 1.0\n",
      "Testing Score  : 0.8021\n",
      "Train-Test Gap : 0.1979\n"
     ]
    }
   ],
   "source": [
    "#from sklearn.ensemble import GradientBoostingClassifier\n",
    "\n",
    "gbm = GradientBoostingClassifier(random_state=42)\n",
    "gbm.fit(x_train, y_train)\n",
    "y_pred_gbm = gbm.predict(x_test)\n",
    "\n",
    "# SCORING the results\n",
    "model_train_score = model.score(x_train, y_train).round(decimals = 4)\n",
    "model_test_score  = model.score(x_test, y_test)  .round(decimals = 4)\n",
    "model_gap         = abs(model_train_score - model_test_score).round(4)\n",
    "\n",
    "\n",
    "# displaying results\n",
    "print('Training Score :', model_train_score)\n",
    "print('Testing Score  :', model_test_score)\n",
    "print('Train-Test Gap :', model_gap)\n"
   ]
  },
  {
   "cell_type": "markdown",
   "id": "11cc55e9",
   "metadata": {},
   "source": [
    "## evaluate_model"
   ]
  },
  {
   "cell_type": "code",
   "execution_count": 326,
   "id": "575ad202",
   "metadata": {},
   "outputs": [],
   "source": [
    "def evaluate_model(y_true, y_pred):\n",
    "     # Calculate the accuracy score: the proportion of correct predictions.\n",
    "    acc = accuracy_score(y_true, y_pred)\n",
    "    # Calculate the precision score: the proportion of true positive predictions in the positive class.\n",
    "    prec = precision_score(y_true, y_pred)\n",
    "    # Calculate the recall score: the ability of the classifier to find all the positive samples.\n",
    "    rec = recall_score(y_true, y_pred)\n",
    "    # Calculate the F1 score: the weighted harmonic mean of precision and recall.\n",
    "    f1 = f1_score(y_true, y_pred)\n",
    "   # Calculate the AUC-ROC score: a performance measurement for classification problems at various threshold settings.\n",
    "    auc = roc_auc_score(y_true, y_pred)\n",
    "    \n",
    "    # Print out the metrics rounded to four decimal places.\n",
    "    print(f\"Accuracy: {acc:.4f}\")\n",
    "    print(f\"Precision: {prec:.4f}\")\n",
    "    print(f\"Recall: {rec:.4f}\")\n",
    "    print(f\"F1 Score: {f1:.4f}\")\n",
    "    print(f\"AUC-ROC: {auc:.4f}\")\n",
    "    \n",
    "    # Plotting the confusion matrix\n",
    "    cm = confusion_matrix(y_true ,y_pred)\n",
    "    disp = ConfusionMatrixDisplay(confusion_matrix=cm,\n",
    "                               )\n",
    "    disp.plot()\n",
    "    plt.show()"
   ]
  },
  {
   "cell_type": "markdown",
   "id": "6879f93c",
   "metadata": {},
   "source": [
    "## confusion_matrix"
   ]
  },
  {
   "cell_type": "code",
   "execution_count": 327,
   "id": "a801fce9",
   "metadata": {},
   "outputs": [
    {
     "name": "stdout",
     "output_type": "stream",
     "text": [
      "Logistic Regression Evaluation\n",
      "Accuracy: 0.7812\n",
      "Precision: 0.6000\n",
      "Recall: 0.1364\n",
      "F1 Score: 0.2222\n",
      "AUC-ROC: 0.5547\n"
     ]
    },
    {
     "data": {
      "image/png": "[encoded data removed]",
      "text/plain": [
       "<Figure size 640x480 with 2 Axes>"
      ]
     },
     "metadata": {},
     "output_type": "display_data"
    },
    {
     "name": "stdout",
     "output_type": "stream",
     "text": [
      "Ridge Classifier Evaluation\n",
      "Accuracy: 0.7708\n",
      "Precision: 0.5000\n",
      "Recall: 0.1364\n",
      "F1 Score: 0.2143\n",
      "AUC-ROC: 0.5479\n"
     ]
    },
    {
     "data": {
      "image/png": "[encoded data removed]",
      "text/plain": [
       "<Figure size 640x480 with 2 Axes>"
      ]
     },
     "metadata": {},
     "output_type": "display_data"
    },
    {
     "name": "stdout",
     "output_type": "stream",
     "text": [
      "KNN Classifier Evaluation\n",
      "Accuracy: 0.7812\n",
      "Precision: 0.6000\n",
      "Recall: 0.1364\n",
      "F1 Score: 0.2222\n",
      "AUC-ROC: 0.5547\n"
     ]
    },
    {
     "data": {
      "image/png": "[encoded data removed]",
      "text/plain": [
       "<Figure size 640x480 with 2 Axes>"
      ]
     },
     "metadata": {},
     "output_type": "display_data"
    },
    {
     "name": "stdout",
     "output_type": "stream",
     "text": [
      "Decision Tree Classifier Evaluation\n",
      "Accuracy: 0.7500\n",
      "Precision: 0.4545\n",
      "Recall: 0.4545\n",
      "F1 Score: 0.4545\n",
      "AUC-ROC: 0.6462\n"
     ]
    },
    {
     "data": {
      "image/png": "[encoded data removed]",
      "text/plain": [
       "<Figure size 640x480 with 2 Axes>"
      ]
     },
     "metadata": {},
     "output_type": "display_data"
    },
    {
     "name": "stdout",
     "output_type": "stream",
     "text": [
      "Random Forest Classifier Evaluation\n",
      "Accuracy: 0.8021\n",
      "Precision: 0.8000\n",
      "Recall: 0.1818\n",
      "F1 Score: 0.2963\n",
      "AUC-ROC: 0.5842\n"
     ]
    },
    {
     "data": {
      "image/png": "[encoded data removed]",
      "text/plain": [
       "<Figure size 640x480 with 2 Axes>"
      ]
     },
     "metadata": {},
     "output_type": "display_data"
    },
    {
     "name": "stdout",
     "output_type": "stream",
     "text": [
      "GBM Classifier Evaluation\n",
      "Accuracy: 0.7812\n",
      "Precision: 0.5455\n",
      "Recall: 0.2727\n",
      "F1 Score: 0.3636\n",
      "AUC-ROC: 0.6026\n"
     ]
    },
    {
     "data": {
      "image/png": "[encoded data removed]",
      "text/plain": [
       "<Figure size 640x480 with 2 Axes>"
      ]
     },
     "metadata": {},
     "output_type": "display_data"
    }
   ],
   "source": [
    "# Logistic Regression\n",
    "print(\"Logistic Regression Evaluation\")\n",
    "evaluate_model(y_test, y_pred_logreg)\n",
    "\n",
    "# Ridge Classifier\n",
    "print(\"Ridge Classifier Evaluation\")\n",
    "evaluate_model(y_test, y_pred_ridge)\n",
    "\n",
    "# KNN Classifier\n",
    "print(\"KNN Classifier Evaluation\")\n",
    "evaluate_model(y_test,knn_reg_pred)\n",
    "\n",
    "# Decision Tree\n",
    "print(\"Decision Tree Classifier Evaluation\")\n",
    "evaluate_model(y_test, y_pred_dtree)\n",
    "\n",
    "# Random Forest\n",
    "print(\"Random Forest Classifier Evaluation\")\n",
    "evaluate_model(y_test, y_pred_rf)\n",
    "\n",
    "# GBM Classifier\n",
    "print(\"GBM Classifier Evaluation\")\n",
    "evaluate_model(y_test, y_pred_gbm)\n"
   ]
  },
  {
   "cell_type": "markdown",
   "id": "cd5d835f",
   "metadata": {},
   "source": [
    "1.Logistic Regression Evaluation:\n",
    "\n",
    "The Logistic Regression model has a high accuracy, but this is largely due to the correct classification of the majority class. With only 3 true positives against 19 false negatives, it's clear the model struggles with identifying the minority class (low birth weight), which is the more critical classification in this context. The precision is relatively high, yet the low recall and F1 score indicate the model's limited ability to detect the positive class. The AUC-ROC score reflects only a slightly better performance than random chance.\n",
    "\n",
    "2.The Ridge Classifier shows a slight improvement in recognizing low birth weight instances with a better recall than previously observed models. While accuracy remains high due to correct majority class predictions, the model still tends to miss several positive cases, as indicated by 18 false negatives. However, when it does predict a low birth weight, it is correct more than half the time, as shown by the precision of 0.5714. The AUC-ROC score suggests a small, but notable, ability to distinguish between classes compared to random guessing.\n",
    "\n",
    "3.The confusion matrix for the KNN Classifier indicates a tendency to predict the majority class, with a high number of false negatives for the minority class, leading to poor recall and a low F1 score. The AUC-ROC of 0.5 shows no discriminative ability between classes, equivalent to random guessing.\n",
    "\n",
    "4.The Decision Tree Classifier has a lower accuracy than some other models but demonstrates a more balanced approach between recognizing both classes. It has a higher recall, indicating it's more adept at identifying low birthweight cases compared to previous models, albeit at the cost of precision. The relatively higher F1 score suggests a better balance between precision and recall. The AUC-ROC score above 0.6 reflects this model's improved ability to differentiate between the classes, which is encouraging for a medical setting where identifying more positive cases is crucial.\n",
    "\n",
    "5.The Random Forest Classifier has demonstrated relatively good performance. It offers high accuracy largely due to correctly predicting the majority class, as seen with the 72 true negatives. The precision is impressive, indicating that when it predicts low birth weight, it is usually correct. However, the recall is moderate, meaning it still misses several true low birth weight instances. The F1 Score and AUC-ROC values are comparatively higher than some other models, indicating a more balanced performance, especially in terms of the model's ability to distinguish between classes. This suggests the Random Forest model could be a viable option for predicting low birth weight, balancing the need to minimize false negatives while maintaining reasonable precision.\n",
    "\n",
    "6.The GBM Classifier shows moderate precision, meaning when it predicts class 1 (low birth weight), it's relatively accurate, but the recall is low, indicating it misses many actual class 1 cases. The accuracy is decent, but this is likely due to class 0 predictions. The AUC-ROC score suggests only a slight improvement over random guessing for class 1."
   ]
  },
  {
   "cell_type": "markdown",
   "id": "cf78a666",
   "metadata": {},
   "source": [
    "# FINAL MODEL \n",
    "\n",
    "The final model selection is the KNN (k-Nearest Neighbors) classifier. The rationale for choosing this model over others like Logistic Regression, Ridge Classifier, Decision Tree, Random Forest, and Gradient Boosting lies in the balance it offers between training and test accuracy, which is reflected by a relatively smaller train-test gap of  0.0034. This indicates that the KNN model is less overfitted to the training data compared to models like Random Forest and Gradient Boosting, which had a perfect training score of 1.0 but a significantly lower testing score, resulting in a larger train-test gap of 0.1875.\n",
    "\n",
    "The confusion matrix for the KNN model shows a trade-off between the types of errors. While it has false negatives (instances where low birthweight is incorrectly predicted as normal), the number is balanced with the false positives to a certain extent, as reflected by the model scores. Considering the focus on correctly predicting low birthweight due to its importance in medical intervention and the potential health risks associated with low birthweight infants, the chosen model should ideally minimize false negatives.\n",
    "\n",
    "In the healthcare context, a false negative is a more critical error than a false positive because it could mean missing out on early interventions for at-risk infants. The KNN model, while not perfect, demonstrates a reasonable compromise in performance metrics, suggesting it could be the most prudent choice given the available options and the priority of the cohort's focus."
   ]
  },
  {
   "cell_type": "markdown",
   "id": "ccf01d3a",
   "metadata": {},
   "source": [
    " ## feature importance"
   ]
  },
  {
   "cell_type": "code",
   "execution_count": 328,
   "id": "9c9d11ff",
   "metadata": {},
   "outputs": [
    {
     "name": "stdout",
     "output_type": "stream",
     "text": [
      "                     feature  importance\n",
      "11   apgar_npvis_interaction    0.042708\n",
      "0                      drink    0.000000\n",
      "1                       cigs    0.000000\n",
      "16        fage_bracket_older    0.000000\n",
      "15  fage_bracket_middle-aged    0.000000\n",
      "14        mage_bracket_older    0.000000\n",
      "13  mage_bracket_middle-aged    0.000000\n",
      "12     health_behavior_score    0.000000\n",
      "10                     mblck    0.000000\n",
      "9                      mwhte    0.000000\n",
      "8                       male    0.000000\n",
      "7                      feduc    0.000000\n",
      "5                      npvis    0.000000\n",
      "4                     monpre    0.000000\n",
      "3                      meduc    0.000000\n",
      "17         prenatal_adequacy    0.000000\n",
      "6                       fage   -0.001042\n",
      "2                       mage   -0.005208\n"
     ]
    }
   ],
   "source": [
    "# Compute permutation feature importance\n",
    "result = permutation_importance(knn_reg, x_test, y_test, n_repeats=10, random_state=42, n_jobs=-1)\n",
    "\n",
    "# Get the importances\n",
    "importances = result.importances_mean\n",
    "\n",
    "# Organize the results into a DataFrame\n",
    "feature_names = x_train.columns\n",
    "feature_importance_df = pd.DataFrame({'feature': feature_names, 'importance': importances}).sort_values(by='importance', ascending=False)\n",
    "\n",
    "# Display the feature importance\n",
    "print(feature_importance_df)\n"
   ]
  },
  {
   "cell_type": "markdown",
   "id": "dcc0f50f",
   "metadata": {},
   "source": [
    "# Preparing Submission File for Kaggle"
   ]
  },
  {
   "cell_type": "code",
   "execution_count": 329,
   "id": "60d28026",
   "metadata": {},
   "outputs": [],
   "source": [
    "# If Kaggle requires the class probabilities for the positive class\n",
    "#y_pred_proba_test = knn_fit.predict_proba(df_test[x_features])[:, 1]\n",
    "\n",
    "# If Kaggle requires the class labels\n",
    "y_pred_test =knn_fit.predict(df_test[x_features])\n"
   ]
  },
  {
   "cell_type": "code",
   "execution_count": 330,
   "id": "e23c1cf0",
   "metadata": {},
   "outputs": [],
   "source": [
    "# Creating a submission DataFrame using the test dataset's index\n",
    "submission = pd.DataFrame({\n",
    "    'ID': df_test.index,  # Use the index of the df_test DataFrame for the 'ID' column\n",
    "    'low_bwght': y_pred_test  # Use the predictions from the model\n",
    "})"
   ]
  },
  {
   "cell_type": "code",
   "execution_count": 331,
   "id": "3801cb37",
   "metadata": {},
   "outputs": [
    {
     "data": {
      "text/plain": [
       "array([1, 0, 0, 0, 0, 0, 0, 0, 0, 0, 0, 0, 0, 0, 0, 0, 0, 0, 0, 0, 0, 0,\n",
       "       0, 0, 0, 0, 0, 0, 0, 0, 1, 0, 0, 0, 0, 0, 0, 0, 0, 0, 0, 0, 0, 0,\n",
       "       0, 0, 0, 0, 0, 0, 0, 1, 0, 0, 0, 0, 0, 0, 0, 0, 0, 0, 0, 0, 0, 0,\n",
       "       0, 0, 0, 0, 0, 0, 0, 0, 0, 0, 0, 0, 0, 0, 0, 0, 0, 0, 0, 0, 0, 0,\n",
       "       0, 0, 0, 0, 0, 0, 0, 0, 0, 0, 0, 0, 0, 0, 0, 0, 0, 0, 0, 0, 0, 0,\n",
       "       0, 0, 0, 0, 0, 0, 0, 0, 0, 0, 0, 0, 0, 0, 0, 0, 0, 0, 0, 0, 0, 0,\n",
       "       0, 0, 0, 0, 0, 0, 0, 0, 0, 0, 0, 0, 0, 0, 0, 0, 0, 0, 0, 0, 0, 0,\n",
       "       0, 0, 0, 0, 0, 0, 0, 0, 0, 0, 0, 0, 0, 0, 0, 0, 0, 0, 0, 0, 0, 0,\n",
       "       0, 0, 0, 0, 0, 0, 0, 0])"
      ]
     },
     "execution_count": 331,
     "metadata": {},
     "output_type": "execute_result"
    }
   ],
   "source": [
    "#Cchecking  the output data \n",
    "y_pred_test"
   ]
  },
  {
   "cell_type": "code",
   "execution_count": 215,
   "id": "7dadfd5e",
   "metadata": {},
   "outputs": [],
   "source": [
    "# Save the submission file\n",
    "submission.to_csv('./model_output/Rachana_Garad.csv', index=False)"
   ]
  },
  {
   "cell_type": "markdown",
   "id": "f5e9dc1e",
   "metadata": {},
   "source": [
    "# Analysis Questions\n",
    "\n",
    "1. Are there any strong positive or strong negative linear (Pearson) correlations with birthweight? Answer this question based on the original, continuous form of birthweight. (minimum 5 sentences)\n",
    "\n",
    "2. Is there an official threshold that signifies when birthweight gets more dangerous? In other words, is there a cutoff point between a healthy birthweight and a non-healthy birthweight? Provide credible sources as necessary. (minimum 5 sentences)\n",
    "\n",
    "3. After transforming birthweight (bwght) using this threshold, did correlations and/or phi coefficients improve? Why or why not? (minimum 5 sentences)\n",
    "\n",
    "4. Which two features in your machine learning model had the largest impact on birthweight? Present one actionable insight for each of these. (minimum 5 sentences per feature)\n",
    "\n",
    "5. Present your final model's confusion matrix and explain what each error means (false positives and false negatives). Furthermore, explain which error is being controlled for given the cohort's focus on correctly predicting low birthweight, as well as why this error is more important to control than the other error. (minimum 5 sentences)"
   ]
  },
  {
   "cell_type": "markdown",
   "id": "57d4ee9b",
   "metadata": {},
   "source": [
    "## Ans Q1 :\n",
    "\n",
    "In the correlation matrix focused on 'bwght' before the threshold calculation, there are no variables with a strong positive or negative linear (Pearson) correlation to birthweight. The correlation values range from -0.09 to 0.17, which are considered weak correlations. 'Fmaps' and 'omaps' show the highest positive correlation with a coefficient of 0.17 each, suggesting a slight association where higher values in fetal monitoring and obstetric apgar scores might be linked to higher birth weights, but the relationship is not strong.\n",
    "\n",
    "Negative correlations with birthweight are also weak, with 'cigs' having the lowest correlation coefficient of -0.09. This suggests a slight inverse relationship where increased cigarette consumption could be associated with lower birthweight, \n",
    "In the context of these data, a strong correlation would typically be considered to have an absolute value of 0.5 or higher. Hence, based on these criteria, none of the variables shows a strong correlation with birthweight in its continuous form. \n",
    "\n",
    "\n",
    "## Ans Q2:\n",
    "\n",
    "Yes, there is an established threshold for categorizing birthweight that is widely recognized by health organizations worldwide. The World Health Organization (WHO) defines low birth weight (LBW) as a weight at birth of less than 2,500 grams (5.5 pounds). This threshold is significant because babies born with a weight below this cutoff are at a higher risk of early growth retardation, infectious disease, developmental delays, and even death, especially during the neonatal period.\n",
    "\n",
    "The WHO and UNICEF collect and monitor data on low birth weight to understand and address this public health issue. Low birth weight is more prevalent in developing countries, but it is a concern for global health as it is a leading indicator of infant mortality and health outcomes. Regular prenatal care is crucial for preventing low birth weight, as it can help manage and mitigate risk factors such as maternal nutrition, health conditions, and behaviors like smoking or substance abuse that contribute to low birth weight.\n",
    "\n",
    "In addition to the WHO's threshold, there are also categories for very low birth weight (VLBW), which is defined as less than 1,500 grams (3 pounds, 4 ounces), and extremely low birth weight (ELBW), which is less than 1,000 grams (2 pounds, 3 ounces). Babies in these lower weight categories require more intensive medical care due to their heightened vulnerability to complications.\n",
    "\n",
    "Sources:\n",
    "- World Health Organization (WHO): [Low birth weight](https://www.who.int/news-room/fact-sheets/detail/low-birthweight)\n",
    "- UNICEF Data: Monitoring the situation of children and women, [Low birthweight](https://data.unicef.org/topic/nutrition/low-birthweight/)\n",
    "\n",
    "## Ans Q3:\n",
    "\n",
    "After applying a threshold to birthweight ('bwght'), the Pearson correlation matrix indicates a very strong negative correlation between 'low_bwght' and 'bwght' (-0.79). This strong correlation reflects the binary nature of the 'low_bwght' variable, which directly corresponds to whether the birthweight is above or below the threshold defining low birth weight.\n",
    "\n",
    "In contrast, the phi_k correlation matrix, which is suitable for mixed data types (both interval and categorical), shows an even stronger relationship between 'low_bwght' and 'bwght' (0.989). This suggests that the phi_k coefficient, which is designed to measure associations between all variable types, captures the relationship more effectively than Pearson's correlation, which is primarily used for continuous variables.\n",
    "\n",
    "The correlations between 'bwght' and other variables like 'fmaps' and 'omaps' are moderate, indicating that as these scores increase, so does the birthweight. This relationship is more pronounced in the phi_k correlation matrix than in the Pearson correlation matrix, suggesting that the transformation has likely improved the clarity of these relationships.\n",
    "\n",
    "The improvement in correlation and phi coefficients after applying the threshold is due to the binary categorization, which tends to show clearer associations with continuous variables in the context of a defined cutoff point. This method simplifies the interpretation by making it easier to see how variables relate to being above or below a critical clinical boundary, such as the threshold for low birthweight.\n",
    "\n",
    "\n",
    "## Ans Q4:\n",
    "\n",
    "Based on the permutation feature importance results the two features that had the most significant impact on the model's ability to predict birthweight in the KNN classifier model are:\n",
    "\n",
    "apgar_npvis_interaction with a positive importance score.\n",
    "\n",
    "mage (mother's age) with a negative importance score, albeit very minor in magnitude.\n",
    "\n",
    "###  apgar_npvis_interaction\n",
    "-  Insight : The interaction between the Apgar score and prenatal visits is a significant predictor of birthweight, emphasizing the importance of newborn health assessments and consistent prenatal care. Healthcare providers should encourage expectant mothers to adhere to their prenatal visit schedules and ensure newborns receive immediate health assessments. This can help in early identification and management of risks related to low birthweight.\n",
    "\n",
    "###  mage (Mother's Age)\n",
    "-  Insight: A slight negative association with birthweight suggests older maternal age might marginally influence lower birthweight. It's crucial for healthcare providers to offer tailored guidance and support to older expectant mothers, focusing on regular monitoring and interventions that mitigate risks associated with potentially lower birthweight.\n",
    "\n",
    "\n",
    "\n",
    "## ANS 5\n",
    "The KNN model's confusion matrix for classifying low birthweight presented many false negatives and few true positives. False negatives in this context are cases where the model predicted a normal birthweight when, in fact, the baby was low birthweight. This type of error is particularly concerning in a medical context, as it means failing to identify at-risk infants who require closer monitoring and potential intervention.\n",
    "\n",
    "Controlling for false negatives is critical in this scenario because the cost of missing a low birthweight prediction can have serious health implications for the newborn. In contrast, false positives—predicting low birthweight when the baby is of normal weight—while still an error, are less dangerous because they would likely result in additional testing or observation, which, although possibly unnecessary, do not pose a risk to the baby's health.\n",
    "\n",
    "Therefore, in the case of predicting low birthweight, it is more important to minimize false negatives than false positives to ensure that all babies who are at risk are given the care they need. This focus aligns with a healthcare approach that prioritizes sensitivity and the well-being of patients, ensuring that no at-risk individuals are overlooked.\n",
    "\n"
   ]
  }
 ],
 "metadata": {
  "kernelspec": {
   "display_name": "Python 3 (ipykernel)",
   "language": "python",
   "name": "python3"
  },
  "language_info": {
   "codemirror_mode": {
    "name": "ipython",
    "version": 3
   },
   "file_extension": ".py",
   "mimetype": "text/x-python",
   "name": "python",
   "nbconvert_exporter": "python",
   "pygments_lexer": "ipython3",
   "version": "3.11.5"
  },
  "toc": {
   "base_numbering": 1,
   "nav_menu": {},
   "number_sections": true,
   "sideBar": true,
   "skip_h1_title": false,
   "title_cell": "Table of Contents",
   "title_sidebar": "Contents",
   "toc_cell": false,
   "toc_position": {},
   "toc_section_display": true,
   "toc_window_display": false
  },
  "varInspector": {
   "cols": {
    "lenName": 16,
    "lenType": 16,
    "lenVar": 40
   },
   "kernels_config": {
    "python": {
     "delete_cmd_postfix": "",
     "delete_cmd_prefix": "del ",
     "library": "var_list.py",
     "varRefreshCmd": "print(var_dic_list())"
    },
    "r": {
     "delete_cmd_postfix": ") ",
     "delete_cmd_prefix": "rm(",
     "library": "var_list.r",
     "varRefreshCmd": "cat(var_dic_list()) "
    }
   },
   "types_to_exclude": [
    "module",
    "function",
    "builtin_function_or_method",
    "instance",
    "_Feature"
   ],
   "window_display": false
  }
 },
 "nbformat": 4,
 "nbformat_minor": 5
}
